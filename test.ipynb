{
 "cells": [
  {
   "cell_type": "code",
   "execution_count": 75,
   "metadata": {},
   "outputs": [],
   "source": [
    "import numpy as np \n",
    "import pandas as pd \n",
    "from geopy.geocoders import Nominatim\n",
    "import time\n",
    "import requests\n",
    "import json\n",
    "import geopandas as gpd\n",
    "import plotly.graph_objects as go\n",
    "from dash import Dash, dcc, html, Input, Output\n",
    "import ast\n",
    "from sklearn.cluster import DBSCAN\n",
    "import colorsys\n",
    "import googlemaps\n",
    "import time"
   ]
  },
  {
   "cell_type": "code",
   "execution_count": 76,
   "metadata": {},
   "outputs": [],
   "source": [
    "data = pd.read_csv(\"df.csv\")"
   ]
  },
  {
   "cell_type": "code",
   "execution_count": 13,
   "metadata": {},
   "outputs": [
    {
     "name": "stdout",
     "output_type": "stream",
     "text": [
      "<class 'pandas.core.frame.DataFrame'>\n",
      "RangeIndex: 5392 entries, 0 to 5391\n",
      "Data columns (total 19 columns):\n",
      "id                  5392 non-null object\n",
      "RLOIid              2526 non-null object\n",
      "catchmentName       2526 non-null object\n",
      "dateOpened          2526 non-null object\n",
      "datumOffset         294 non-null float64\n",
      "easting             4758 non-null object\n",
      "label               5392 non-null object\n",
      "lat                 4758 non-null object\n",
      "long                4758 non-null object\n",
      "northing            4758 non-null object\n",
      "notation            5391 non-null object\n",
      "riverName           2526 non-null object\n",
      "stageScale          2526 non-null object\n",
      "stationReference    5391 non-null object\n",
      "status              2526 non-null object\n",
      "town                4665 non-null object\n",
      "wiskiID             2511 non-null object\n",
      "measures            5392 non-null object\n",
      "station_id          5391 non-null object\n",
      "dtypes: float64(1), object(18)\n",
      "memory usage: 800.5+ KB\n"
     ]
    },
    {
     "name": "stdout",
     "output_type": "stream",
     "text": [
      "---------------------------------------------------------------------------\n",
      "ValueError                                Traceback (most recent call last)\n",
      "~/anaconda3/envs/cm/lib/python3.6/site-packages/sklearn/cluster/_dbscan.py in fit(\n",
      "    self=DBSCAN(eps=0.01, min_samples=1),\n",
      "    X=array([['51.874767', '-1.740083'],\n",
      "       ['52.8...\n",
      "       ['51.185918', '0.931329']], dtype=object),\n",
      "    y=None,\n",
      "    sample_weight=None\n",
      ")\n",
      "    308 \n",
      "    309         \"\"\"\n",
      "--> 310         X = self._validate_data(X, accept_sparse='csr')\n",
      "        X = array([['51.874767', '-1.740083'],\n",
      "       ['52.845991', '-0.100848'],\n",
      "       ['50.976043', '-2.793549'],\n",
      "       ...,\n",
      "       ['50.431052', '-4.679467'],\n",
      "       ['53.324572', '-1.539797'],\n",
      "       ['51.185918', '0.931329']], dtype=object)\n",
      "        self._validate_data = <bound method BaseEstimator._validate_data of DBSCAN(eps=0.01, min_samples=1)>\n",
      "        global accept_sparse = undefined\n",
      "    311 \n",
      "    312         if not self.eps > 0.0:\n",
      "\n",
      "~/anaconda3/envs/cm/lib/python3.6/site-packages/sklearn/base.py in _validate_data(\n",
      "    self=DBSCAN(eps=0.01, min_samples=1),\n",
      "    X=array([['51.874767', '-1.740083'],\n",
      "       ['52.8...\n",
      "       ['51.185918', '0.931329']], dtype=object),\n",
      "    y='no_validation',\n",
      "    reset=True,\n",
      "    validate_separately=False,\n",
      "    **check_params={'accept_sparse': 'csr'}\n",
      ")\n",
      "    419             out = X\n",
      "    420         elif isinstance(y, str) and y == 'no_validation':\n",
      "--> 421             X = check_array(X, **check_params)\n",
      "        X = array([['51.874767', '-1.740083'],\n",
      "       ['52.845991', '-0.100848'],\n",
      "       ['50.976043', '-2.793549'],\n",
      "       ...,\n",
      "       ['50.431052', '-4.679467'],\n",
      "       ['53.324572', '-1.539797'],\n",
      "       ['51.185918', '0.931329']], dtype=object)\n",
      "        global check_array = <function check_array at 0x7420d43f8ea0>\n",
      "        check_params = {'accept_sparse': 'csr'}\n",
      "    422             out = X\n",
      "    423         else:\n",
      "\n",
      "~/anaconda3/envs/cm/lib/python3.6/site-packages/sklearn/utils/validation.py in inner_f(\n",
      "    *args=(array([['51.874767', '-1.740083'],\n",
      "       ['52.8...\n",
      "       ['51.185918', '0.931329']], dtype=object),),\n",
      "    **kwargs={'accept_sparse': 'csr'}\n",
      ")\n",
      "     61             extra_args = len(args) - len(all_args)\n",
      "     62             if extra_args <= 0:\n",
      "---> 63                 return f(*args, **kwargs)\n",
      "        global f = undefined\n",
      "        args = (array([['51.874767', '-1.740083'],\n",
      "       ['52.845991', '-0.100848'],\n",
      "       ['50.976043', '-2.793549'],\n",
      "       ...,\n",
      "       ['50.431052', '-4.679467'],\n",
      "       ['53.324572', '-1.539797'],\n",
      "       ['51.185918', '0.931329']], dtype=object),)\n",
      "        kwargs = {'accept_sparse': 'csr'}\n",
      "     64 \n",
      "     65             # extra_args > 0\n",
      "\n",
      "~/anaconda3/envs/cm/lib/python3.6/site-packages/sklearn/utils/validation.py in check_array(\n",
      "    array=array([['51.874767', '-1.740083'],\n",
      "       ['52.8...\n",
      "       ['51.185918', '0.931329']], dtype=object),\n",
      "    accept_sparse='csr',\n",
      "    accept_large_sparse=True,\n",
      "    dtype=<class 'numpy.float64'>,\n",
      "    order=None,\n",
      "    copy=False,\n",
      "    force_all_finite=True,\n",
      "    ensure_2d=True,\n",
      "    allow_nd=False,\n",
      "    ensure_min_samples=1,\n",
      "    ensure_min_features=1,\n",
      "    estimator=None\n",
      ")\n",
      "    671                     array = array.astype(dtype, casting=\"unsafe\", copy=False)\n",
      "    672                 else:\n",
      "--> 673                     array = np.asarray(array, order=order, dtype=dtype)\n",
      "        array = array([['51.874767', '-1.740083'],\n",
      "       ['52.845991', '-0.100848'],\n",
      "       ['50.976043', '-2.793549'],\n",
      "       ...,\n",
      "       ['50.431052', '-4.679467'],\n",
      "       ['53.324572', '-1.539797'],\n",
      "       ['51.185918', '0.931329']], dtype=object)\n",
      "        global np.asarray = <function asarray at 0x74211229c488>\n",
      "        order = None\n",
      "        dtype = <class 'numpy.float64'>\n",
      "    674             except ComplexWarning as complex_warning:\n",
      "    675                 raise ValueError(\"Complex data not supported\\n\"\n",
      "\n",
      "~/anaconda3/envs/cm/lib/python3.6/site-packages/numpy/core/numeric.py in asarray(\n",
      "    a=array([['51.874767', '-1.740083'],\n",
      "       ['52.8...\n",
      "       ['51.185918', '0.931329']], dtype=object),\n",
      "    dtype=<class 'numpy.float64'>,\n",
      "    order=None\n",
      ")\n",
      "    536 \n",
      "    537     \"\"\"\n",
      "--> 538     return array(a, dtype, copy=False, order=order)\n",
      "        global array = <built-in function array>\n",
      "        a = array([['51.874767', '-1.740083'],\n",
      "       ['52.845991', '-0.100848'],\n",
      "       ['50.976043', '-2.793549'],\n",
      "       ...,\n",
      "       ['50.431052', '-4.679467'],\n",
      "       ['53.324572', '-1.539797'],\n",
      "       ['51.185918', '0.931329']], dtype=object)\n",
      "        dtype = <class 'numpy.float64'>\n",
      "        global copy = undefined\n",
      "        order = None\n",
      "    539 \n",
      "    540 \n",
      "\n",
      "ValueError: could not convert string to float: '[51.19557, 51.196412]'\n",
      "\n",
      "---------------------------------------------------------------------------\n",
      "ValueError                                Traceback (most recent call last)\n",
      "~/anaconda3/envs/cm/lib/python3.6/site-packages/sklearn/cluster/_dbscan.py in fit(\n",
      "    self=DBSCAN(eps=0.01, min_samples=1),\n",
      "    X=array([['51.874767', '-1.740083'],\n",
      "       ['52.8...\n",
      "       ['51.185918', '0.931329']], dtype=object),\n",
      "    y=None,\n",
      "    sample_weight=None\n",
      ")\n",
      "    308 \n",
      "    309         \"\"\"\n",
      "--> 310         X = self._validate_data(X, accept_sparse='csr')\n",
      "        X = array([['51.874767', '-1.740083'],\n",
      "       ['52.845991', '-0.100848'],\n",
      "       ['50.976043', '-2.793549'],\n",
      "       ...,\n",
      "       ['50.431052', '-4.679467'],\n",
      "       ['53.324572', '-1.539797'],\n",
      "       ['51.185918', '0.931329']], dtype=object)\n",
      "        self._validate_data = <bound method BaseEstimator._validate_data of DBSCAN(eps=0.01, min_samples=1)>\n",
      "        global accept_sparse = undefined\n",
      "    311 \n",
      "    312         if not self.eps > 0.0:\n",
      "\n",
      "~/anaconda3/envs/cm/lib/python3.6/site-packages/sklearn/base.py in _validate_data(\n",
      "    self=DBSCAN(eps=0.01, min_samples=1),\n",
      "    X=array([['51.874767', '-1.740083'],\n",
      "       ['52.8...\n",
      "       ['51.185918', '0.931329']], dtype=object),\n",
      "    y='no_validation',\n",
      "    reset=True,\n",
      "    validate_separately=False,\n",
      "    **check_params={'accept_sparse': 'csr'}\n",
      ")\n",
      "    419             out = X\n",
      "    420         elif isinstance(y, str) and y == 'no_validation':\n",
      "--> 421             X = check_array(X, **check_params)\n",
      "        X = array([['51.874767', '-1.740083'],\n",
      "       ['52.845991', '-0.100848'],\n",
      "       ['50.976043', '-2.793549'],\n",
      "       ...,\n",
      "       ['50.431052', '-4.679467'],\n",
      "       ['53.324572', '-1.539797'],\n",
      "       ['51.185918', '0.931329']], dtype=object)\n",
      "        global check_array = <function check_array at 0x7420d43f8ea0>\n",
      "        check_params = {'accept_sparse': 'csr'}\n",
      "    422             out = X\n",
      "    423         else:\n",
      "\n",
      "~/anaconda3/envs/cm/lib/python3.6/site-packages/sklearn/utils/validation.py in inner_f(\n",
      "    *args=(array([['51.874767', '-1.740083'],\n",
      "       ['52.8...\n",
      "       ['51.185918', '0.931329']], dtype=object),),\n",
      "    **kwargs={'accept_sparse': 'csr'}\n",
      ")\n",
      "     61             extra_args = len(args) - len(all_args)\n",
      "     62             if extra_args <= 0:\n",
      "---> 63                 return f(*args, **kwargs)\n",
      "        global f = undefined\n",
      "        args = (array([['51.874767', '-1.740083'],\n",
      "       ['52.845991', '-0.100848'],\n",
      "       ['50.976043', '-2.793549'],\n",
      "       ...,\n",
      "       ['50.431052', '-4.679467'],\n",
      "       ['53.324572', '-1.539797'],\n",
      "       ['51.185918', '0.931329']], dtype=object),)\n",
      "        kwargs = {'accept_sparse': 'csr'}\n",
      "     64 \n",
      "     65             # extra_args > 0\n",
      "\n",
      "~/anaconda3/envs/cm/lib/python3.6/site-packages/sklearn/utils/validation.py in check_array(\n",
      "    array=array([['51.874767', '-1.740083'],\n",
      "       ['52.8...\n",
      "       ['51.185918', '0.931329']], dtype=object),\n",
      "    accept_sparse='csr',\n",
      "    accept_large_sparse=True,\n",
      "    dtype=<class 'numpy.float64'>,\n",
      "    order=None,\n",
      "    copy=False,\n",
      "    force_all_finite=True,\n",
      "    ensure_2d=True,\n",
      "    allow_nd=False,\n",
      "    ensure_min_samples=1,\n",
      "    ensure_min_features=1,\n",
      "    estimator=None\n",
      ")\n",
      "    671                     array = array.astype(dtype, casting=\"unsafe\", copy=False)\n",
      "    672                 else:\n",
      "--> 673                     array = np.asarray(array, order=order, dtype=dtype)\n",
      "        array = array([['51.874767', '-1.740083'],\n",
      "       ['52.845991', '-0.100848'],\n",
      "       ['50.976043', '-2.793549'],\n",
      "       ...,\n",
      "       ['50.431052', '-4.679467'],\n",
      "       ['53.324572', '-1.539797'],\n",
      "       ['51.185918', '0.931329']], dtype=object)\n",
      "        global np.asarray = <function asarray at 0x74211229c488>\n",
      "        order = None\n",
      "        dtype = <class 'numpy.float64'>\n",
      "    674             except ComplexWarning as complex_warning:\n",
      "    675                 raise ValueError(\"Complex data not supported\\n\"\n",
      "\n",
      "~/anaconda3/envs/cm/lib/python3.6/site-packages/numpy/core/numeric.py in asarray(\n",
      "    a=array([['51.874767', '-1.740083'],\n",
      "       ['52.8...\n",
      "       ['51.185918', '0.931329']], dtype=object),\n",
      "    dtype=<class 'numpy.float64'>,\n",
      "    order=None\n",
      ")\n",
      "    536 \n",
      "    537     \"\"\"\n",
      "--> 538     return array(a, dtype, copy=False, order=order)\n",
      "        global array = <built-in function array>\n",
      "        a = array([['51.874767', '-1.740083'],\n",
      "       ['52.845991', '-0.100848'],\n",
      "       ['50.976043', '-2.793549'],\n",
      "       ...,\n",
      "       ['50.431052', '-4.679467'],\n",
      "       ['53.324572', '-1.539797'],\n",
      "       ['51.185918', '0.931329']], dtype=object)\n",
      "        dtype = <class 'numpy.float64'>\n",
      "        global copy = undefined\n",
      "        order = None\n",
      "    539 \n",
      "    540 \n",
      "\n",
      "ValueError: could not convert string to float: '[51.19557, 51.196412]'\n",
      "\n",
      "---------------------------------------------------------------------------\n",
      "ValueError                                Traceback (most recent call last)\n",
      "~/anaconda3/envs/cm/lib/python3.6/site-packages/sklearn/cluster/_dbscan.py in fit(\n",
      "    self=DBSCAN(eps=0.01, min_samples=1),\n",
      "    X=array([['51.874767', '-1.740083'],\n",
      "       ['52.8...\n",
      "       ['51.185918', '0.931329']], dtype=object),\n",
      "    y=None,\n",
      "    sample_weight=None\n",
      ")\n",
      "    308 \n",
      "    309         \"\"\"\n",
      "--> 310         X = self._validate_data(X, accept_sparse='csr')\n",
      "        X = array([['51.874767', '-1.740083'],\n",
      "       ['52.845991', '-0.100848'],\n",
      "       ['50.976043', '-2.793549'],\n",
      "       ...,\n",
      "       ['50.431052', '-4.679467'],\n",
      "       ['53.324572', '-1.539797'],\n",
      "       ['51.185918', '0.931329']], dtype=object)\n",
      "        self._validate_data = <bound method BaseEstimator._validate_data of DBSCAN(eps=0.01, min_samples=1)>\n",
      "        global accept_sparse = undefined\n",
      "    311 \n",
      "    312         if not self.eps > 0.0:\n",
      "\n",
      "~/anaconda3/envs/cm/lib/python3.6/site-packages/sklearn/base.py in _validate_data(\n",
      "    self=DBSCAN(eps=0.01, min_samples=1),\n",
      "    X=array([['51.874767', '-1.740083'],\n",
      "       ['52.8...\n",
      "       ['51.185918', '0.931329']], dtype=object),\n",
      "    y='no_validation',\n",
      "    reset=True,\n",
      "    validate_separately=False,\n",
      "    **check_params={'accept_sparse': 'csr'}\n",
      ")\n",
      "    419             out = X\n",
      "    420         elif isinstance(y, str) and y == 'no_validation':\n",
      "--> 421             X = check_array(X, **check_params)\n",
      "        X = array([['51.874767', '-1.740083'],\n",
      "       ['52.845991', '-0.100848'],\n",
      "       ['50.976043', '-2.793549'],\n",
      "       ...,\n",
      "       ['50.431052', '-4.679467'],\n",
      "       ['53.324572', '-1.539797'],\n",
      "       ['51.185918', '0.931329']], dtype=object)\n",
      "        global check_array = <function check_array at 0x7420d43f8ea0>\n",
      "        check_params = {'accept_sparse': 'csr'}\n",
      "    422             out = X\n",
      "    423         else:\n",
      "\n",
      "~/anaconda3/envs/cm/lib/python3.6/site-packages/sklearn/utils/validation.py in inner_f(\n",
      "    *args=(array([['51.874767', '-1.740083'],\n",
      "       ['52.8...\n",
      "       ['51.185918', '0.931329']], dtype=object),),\n",
      "    **kwargs={'accept_sparse': 'csr'}\n",
      ")\n",
      "     61             extra_args = len(args) - len(all_args)\n",
      "     62             if extra_args <= 0:\n",
      "---> 63                 return f(*args, **kwargs)\n",
      "        global f = undefined\n",
      "        args = (array([['51.874767', '-1.740083'],\n",
      "       ['52.845991', '-0.100848'],\n",
      "       ['50.976043', '-2.793549'],\n",
      "       ...,\n",
      "       ['50.431052', '-4.679467'],\n",
      "       ['53.324572', '-1.539797'],\n",
      "       ['51.185918', '0.931329']], dtype=object),)\n",
      "        kwargs = {'accept_sparse': 'csr'}\n",
      "     64 \n",
      "     65             # extra_args > 0\n",
      "\n",
      "~/anaconda3/envs/cm/lib/python3.6/site-packages/sklearn/utils/validation.py in check_array(\n",
      "    array=array([['51.874767', '-1.740083'],\n",
      "       ['52.8...\n",
      "       ['51.185918', '0.931329']], dtype=object),\n",
      "    accept_sparse='csr',\n",
      "    accept_large_sparse=True,\n",
      "    dtype=<class 'numpy.float64'>,\n",
      "    order=None,\n",
      "    copy=False,\n",
      "    force_all_finite=True,\n",
      "    ensure_2d=True,\n",
      "    allow_nd=False,\n",
      "    ensure_min_samples=1,\n",
      "    ensure_min_features=1,\n",
      "    estimator=None\n",
      ")\n",
      "    671                     array = array.astype(dtype, casting=\"unsafe\", copy=False)\n",
      "    672                 else:\n",
      "--> 673                     array = np.asarray(array, order=order, dtype=dtype)\n",
      "        array = array([['51.874767', '-1.740083'],\n",
      "       ['52.845991', '-0.100848'],\n",
      "       ['50.976043', '-2.793549'],\n",
      "       ...,\n",
      "       ['50.431052', '-4.679467'],\n",
      "       ['53.324572', '-1.539797'],\n",
      "       ['51.185918', '0.931329']], dtype=object)\n",
      "        global np.asarray = <function asarray at 0x74211229c488>\n",
      "        order = None\n",
      "        dtype = <class 'numpy.float64'>\n",
      "    674             except ComplexWarning as complex_warning:\n",
      "    675                 raise ValueError(\"Complex data not supported\\n\"\n",
      "\n",
      "~/anaconda3/envs/cm/lib/python3.6/site-packages/numpy/core/numeric.py in asarray(\n",
      "    a=array([['51.874767', '-1.740083'],\n",
      "       ['52.8...\n",
      "       ['51.185918', '0.931329']], dtype=object),\n",
      "    dtype=<class 'numpy.float64'>,\n",
      "    order=None\n",
      ")\n",
      "    536 \n",
      "    537     \"\"\"\n",
      "--> 538     return array(a, dtype, copy=False, order=order)\n",
      "        global array = <built-in function array>\n",
      "        a = array([['51.874767', '-1.740083'],\n",
      "       ['52.845991', '-0.100848'],\n",
      "       ['50.976043', '-2.793549'],\n",
      "       ...,\n",
      "       ['50.431052', '-4.679467'],\n",
      "       ['53.324572', '-1.539797'],\n",
      "       ['51.185918', '0.931329']], dtype=object)\n",
      "        dtype = <class 'numpy.float64'>\n",
      "        global copy = undefined\n",
      "        order = None\n",
      "    539 \n",
      "    540 \n",
      "\n",
      "ValueError: could not convert string to float: '[51.19557, 51.196412]'\n",
      "\n",
      "---------------------------------------------------------------------------\n",
      "ValueError                                Traceback (most recent call last)\n",
      "~/anaconda3/envs/cm/lib/python3.6/site-packages/sklearn/cluster/_dbscan.py in fit(\n",
      "    self=DBSCAN(eps=0.01, min_samples=1),\n",
      "    X=array([['51.874767', '-1.740083'],\n",
      "       ['52.8...\n",
      "       ['51.185918', '0.931329']], dtype=object),\n",
      "    y=None,\n",
      "    sample_weight=None\n",
      ")\n",
      "    308 \n",
      "    309         \"\"\"\n",
      "--> 310         X = self._validate_data(X, accept_sparse='csr')\n",
      "        X = array([['51.874767', '-1.740083'],\n",
      "       ['52.845991', '-0.100848'],\n",
      "       ['50.976043', '-2.793549'],\n",
      "       ...,\n",
      "       ['50.431052', '-4.679467'],\n",
      "       ['53.324572', '-1.539797'],\n",
      "       ['51.185918', '0.931329']], dtype=object)\n",
      "        self._validate_data = <bound method BaseEstimator._validate_data of DBSCAN(eps=0.01, min_samples=1)>\n",
      "        global accept_sparse = undefined\n",
      "    311 \n",
      "    312         if not self.eps > 0.0:\n",
      "\n",
      "~/anaconda3/envs/cm/lib/python3.6/site-packages/sklearn/base.py in _validate_data(\n",
      "    self=DBSCAN(eps=0.01, min_samples=1),\n",
      "    X=array([['51.874767', '-1.740083'],\n",
      "       ['52.8...\n",
      "       ['51.185918', '0.931329']], dtype=object),\n",
      "    y='no_validation',\n",
      "    reset=True,\n",
      "    validate_separately=False,\n",
      "    **check_params={'accept_sparse': 'csr'}\n",
      ")\n",
      "    419             out = X\n",
      "    420         elif isinstance(y, str) and y == 'no_validation':\n",
      "--> 421             X = check_array(X, **check_params)\n",
      "        X = array([['51.874767', '-1.740083'],\n",
      "       ['52.845991', '-0.100848'],\n",
      "       ['50.976043', '-2.793549'],\n",
      "       ...,\n",
      "       ['50.431052', '-4.679467'],\n",
      "       ['53.324572', '-1.539797'],\n",
      "       ['51.185918', '0.931329']], dtype=object)\n",
      "        global check_array = <function check_array at 0x7420d43f8ea0>\n",
      "        check_params = {'accept_sparse': 'csr'}\n",
      "    422             out = X\n",
      "    423         else:\n",
      "\n",
      "~/anaconda3/envs/cm/lib/python3.6/site-packages/sklearn/utils/validation.py in inner_f(\n",
      "    *args=(array([['51.874767', '-1.740083'],\n",
      "       ['52.8...\n",
      "       ['51.185918', '0.931329']], dtype=object),),\n",
      "    **kwargs={'accept_sparse': 'csr'}\n",
      ")\n",
      "     61             extra_args = len(args) - len(all_args)\n",
      "     62             if extra_args <= 0:\n",
      "---> 63                 return f(*args, **kwargs)\n",
      "        global f = undefined\n",
      "        args = (array([['51.874767', '-1.740083'],\n",
      "       ['52.845991', '-0.100848'],\n",
      "       ['50.976043', '-2.793549'],\n",
      "       ...,\n",
      "       ['50.431052', '-4.679467'],\n",
      "       ['53.324572', '-1.539797'],\n",
      "       ['51.185918', '0.931329']], dtype=object),)\n",
      "        kwargs = {'accept_sparse': 'csr'}\n",
      "     64 \n",
      "     65             # extra_args > 0\n",
      "\n",
      "~/anaconda3/envs/cm/lib/python3.6/site-packages/sklearn/utils/validation.py in check_array(\n",
      "    array=array([['51.874767', '-1.740083'],\n",
      "       ['52.8...\n",
      "       ['51.185918', '0.931329']], dtype=object),\n",
      "    accept_sparse='csr',\n",
      "    accept_large_sparse=True,\n",
      "    dtype=<class 'numpy.float64'>,\n",
      "    order=None,\n",
      "    copy=False,\n",
      "    force_all_finite=True,\n",
      "    ensure_2d=True,\n",
      "    allow_nd=False,\n",
      "    ensure_min_samples=1,\n",
      "    ensure_min_features=1,\n",
      "    estimator=None\n",
      ")\n",
      "    671                     array = array.astype(dtype, casting=\"unsafe\", copy=False)\n",
      "    672                 else:\n",
      "--> 673                     array = np.asarray(array, order=order, dtype=dtype)\n",
      "        array = array([['51.874767', '-1.740083'],\n",
      "       ['52.845991', '-0.100848'],\n",
      "       ['50.976043', '-2.793549'],\n",
      "       ...,\n",
      "       ['50.431052', '-4.679467'],\n",
      "       ['53.324572', '-1.539797'],\n",
      "       ['51.185918', '0.931329']], dtype=object)\n",
      "        global np.asarray = <function asarray at 0x74211229c488>\n",
      "        order = None\n",
      "        dtype = <class 'numpy.float64'>\n",
      "    674             except ComplexWarning as complex_warning:\n",
      "    675                 raise ValueError(\"Complex data not supported\\n\"\n",
      "\n",
      "~/anaconda3/envs/cm/lib/python3.6/site-packages/numpy/core/numeric.py in asarray(\n",
      "    a=array([['51.874767', '-1.740083'],\n",
      "       ['52.8...\n",
      "       ['51.185918', '0.931329']], dtype=object),\n",
      "    dtype=<class 'numpy.float64'>,\n",
      "    order=None\n",
      ")\n",
      "    536 \n",
      "    537     \"\"\"\n",
      "--> 538     return array(a, dtype, copy=False, order=order)\n",
      "        global array = <built-in function array>\n",
      "        a = array([['51.874767', '-1.740083'],\n",
      "       ['52.845991', '-0.100848'],\n",
      "       ['50.976043', '-2.793549'],\n",
      "       ...,\n",
      "       ['50.431052', '-4.679467'],\n",
      "       ['53.324572', '-1.539797'],\n",
      "       ['51.185918', '0.931329']], dtype=object)\n",
      "        dtype = <class 'numpy.float64'>\n",
      "        global copy = undefined\n",
      "        order = None\n",
      "    539 \n",
      "    540 \n",
      "\n",
      "ValueError: could not convert string to float: '[51.19557, 51.196412]'\n",
      "\n"
     ]
    }
   ],
   "source": [
    "data.info()"
   ]
  },
  {
   "cell_type": "code",
   "execution_count": null,
   "metadata": {},
   "outputs": [],
   "source": [
    "https://environment.data.gov.uk/flood-monitoring/id/stations/1491TH/readings?_sorted&_limit=196"
   ]
  },
  {
   "cell_type": "code",
   "execution_count": null,
   "metadata": {},
   "outputs": [
    {
     "name": "stdout",
     "output_type": "stream",
     "text": [
      "Data saved successfully.\n"
     ]
    }
   ],
   "source": []
  },
  {
   "cell_type": "code",
   "execution_count": null,
   "metadata": {},
   "outputs": [],
   "source": []
  },
  {
   "cell_type": "code",
   "execution_count": null,
   "metadata": {},
   "outputs": [],
   "source": [
    "https://environment.data.gov.uk/flood-monitoring/id/stations/1491TH/measures"
   ]
  },
  {
   "cell_type": "code",
   "execution_count": null,
   "metadata": {},
   "outputs": [
    {
     "name": "stdout",
     "output_type": "stream",
     "text": [
      "{'Greater Manchester', 'Lincolnshire', 'West Sussex', 'Highland', 'Buckinghamshire', 'Kent', 'Nottinghamshire', 'Down', 'Mid Glamorgan', 'Edinburgh, City of', 'Dyfed', 'Wiltshire', 'Somerset', 'Londonderry', 'Na h-Eileanan Siar (Western Isles)', 'Surrey', 'North Lanarkshire', 'Tyrone', 'Essex', 'Moray', 'Durham', 'Cambridgeshire', 'East Dunbartonshire', 'Tyne and Wear', 'Fife', 'Dorset', 'Northumberland', 'West Glamorgan', 'Fermanagh', 'Hertfordshire', 'North Ayrshire', 'Renfrewshire', 'Armagh', 'Devon', 'East Renfrewshire', 'South Glamorgan', 'Shropshire', 'Falkirk', 'City of London', 'Norfolk', 'Stirling', 'Herefordshire', 'Merseyside', 'Aberdeenshire', 'Cheshire', 'Warwickshire', 'Midlothian', 'Argyll and Bute', 'Cornwall', 'Glasgow City', 'Suffolk', 'Rutland', 'Orkney Islands', 'Clwyd', 'North Yorkshire', 'East Ayrshire', 'Leicestershire', 'East Riding of Yorkshire', 'Cumbria', 'Staffordshire', 'Lancashire', 'East Lothian', 'South Lanarkshire', 'Oxfordshire', 'East Sussex', 'Clackmannanshire', 'Isle of Wight', 'Scottish Borders', 'Perth and Kinross', 'Northamptonshire', 'Angus', 'Bedfordshire', 'Hampshire', 'West Midlands', 'Inverclyde', 'Gwynedd', 'Antrim', 'Powys', 'Bristol', 'West Lothian', 'West Yorkshire', 'Gloucestershire', 'Aberdeen City', 'Shetland Islands', 'Greater London', 'Dundee City', 'Worcestershire', 'Gwent', 'South Ayrshire', 'West Dunbartonshire', 'Derbyshire', 'Dumfries and Galloway', 'South Yorkshire', 'Berkshire'}\n"
     ]
    }
   ],
   "source": [
    "county_list = {\n",
    "    \n",
    "        \"Bedfordshire\", \"Berkshire\", \"Bristol\", \"Buckinghamshire\", \"Cambridgeshire\",\n",
    "        \"Cheshire\", \"City of London\", \"Cornwall\", \"Cumbria\", \"Derbyshire\", \"Devon\",\n",
    "        \"Dorset\", \"Durham\", \"East Riding of Yorkshire\", \"East Sussex\", \"Essex\",\n",
    "        \"Gloucestershire\", \"Greater London\", \"Greater Manchester\", \"Hampshire\",\n",
    "        \"Herefordshire\", \"Hertfordshire\", \"Isle of Wight\", \"Kent\", \"Lancashire\",\n",
    "        \"Leicestershire\", \"Lincolnshire\", \"Merseyside\", \"Norfolk\", \"North Yorkshire\",\n",
    "        \"Northamptonshire\", \"Northumberland\", \"Nottinghamshire\", \"Oxfordshire\",\n",
    "        \"Rutland\", \"Shropshire\", \"Somerset\", \"South Yorkshire\", \"Staffordshire\",\n",
    "        \"Suffolk\", \"Surrey\", \"Tyne and Wear\", \"Warwickshire\", \"West Midlands\",\n",
    "        \"West Sussex\", \"West Yorkshire\", \"Wiltshire\", \"Worcestershire\",\n",
    "        \"Aberdeen City\", \"Aberdeenshire\", \"Angus\", \"Argyll and Bute\", \"Clackmannanshire\",\n",
    "        \"Dumfries and Galloway\", \"Dundee City\", \"East Ayrshire\", \"East Dunbartonshire\",\n",
    "        \"East Lothian\", \"East Renfrewshire\", \"Edinburgh, City of\", \"Falkirk\", \"Fife\",\n",
    "        \"Glasgow City\", \"Highland\", \"Inverclyde\", \"Midlothian\", \"Moray\",\n",
    "        \"Na h-Eileanan Siar (Western Isles)\", \"North Ayrshire\", \"North Lanarkshire\",\n",
    "        \"Orkney Islands\", \"Perth and Kinross\", \"Renfrewshire\", \"Scottish Borders\",\n",
    "        \"Shetland Islands\", \"South Ayrshire\", \"South Lanarkshire\", \"Stirling\",\n",
    "        \"West Dunbartonshire\", \"West Lothian\",\n",
    "        \"Clwyd\", \"Dyfed\", \"Gwent\", \"Gwynedd\", \"Mid Glamorgan\", \"Powys\",\n",
    "        \"South Glamorgan\", \"West Glamorgan\",\n",
    "        \"Antrim\", \"Armagh\", \"Down\", \"Fermanagh\", \"Londonderry\", \"Tyrone\"   \n",
    "}"
   ]
  },
  {
   "cell_type": "code",
   "execution_count": null,
   "metadata": {},
   "outputs": [],
   "source": [
    "\n",
    "\n",
    "def build_upper_left_panel():\n",
    "    return html.Div(\n",
    "        id=\"upper-left\",\n",
    "        className=\"six columns\",\n",
    "        children=[\n",
    "            html.H3(\n",
    "                className=\"section-title\",\n",
    "                children=\"Please select the county\",\n",
    "            ),\n",
    "            html.Div(\n",
    "                className=\"control-row-1\",\n",
    "                children=[\n",
    "                    html.Div(\n",
    "                        id=\"state-select-outer\",\n",
    "                        children=[\n",
    "                            html.Label(\"Select a region\"),\n",
    "                            dcc.Dropdown(\n",
    "                                id=\"state-select\",\n",
    "                                options=[{\"label\": i, \"value\": i} for i in county_list],\n",
    "                                value=county_list[1],\n",
    "                            ),\n",
    "                        ],\n",
    "                    ),\n",
    "                ],\n",
    "            ),\n",
    "            html.Div(\n",
    "                id=\"table-container\",\n",
    "                className=\"table-container\",\n",
    "                children=[\n",
    "                    html.Div(\n",
    "                        id=\"table-upper\",\n",
    "                        children=[\n",
    "                            html.P(\"24 hour value chart for the metric\"),\n",
    "                            dcc.Loading(children=html.Div(id=\"cost-stats-container\")),\n",
    "                        ],\n",
    "                    ),\n",
    "                ],\n",
    "            ),\n",
    "        ],\n",
    "    )\n"
   ]
  },
  {
   "cell_type": "code",
   "execution_count": 104,
   "metadata": {},
   "outputs": [
    {
     "data": {
      "text/html": [
       "<div>\n",
       "<style scoped>\n",
       "    .dataframe tbody tr th:only-of-type {\n",
       "        vertical-align: middle;\n",
       "    }\n",
       "\n",
       "    .dataframe tbody tr th {\n",
       "        vertical-align: top;\n",
       "    }\n",
       "\n",
       "    .dataframe thead th {\n",
       "        text-align: right;\n",
       "    }\n",
       "</style>\n",
       "<table border=\"1\" class=\"dataframe\">\n",
       "  <thead>\n",
       "    <tr style=\"text-align: right;\">\n",
       "      <th></th>\n",
       "      <th>id</th>\n",
       "      <th>RLOIid</th>\n",
       "      <th>catchmentName</th>\n",
       "      <th>dateOpened</th>\n",
       "      <th>datumOffset</th>\n",
       "      <th>easting</th>\n",
       "      <th>label</th>\n",
       "      <th>lat</th>\n",
       "      <th>long</th>\n",
       "      <th>northing</th>\n",
       "      <th>notation</th>\n",
       "      <th>riverName</th>\n",
       "      <th>stageScale</th>\n",
       "      <th>stationReference</th>\n",
       "      <th>status</th>\n",
       "      <th>town</th>\n",
       "      <th>wiskiID</th>\n",
       "      <th>measures</th>\n",
       "      <th>station_id</th>\n",
       "    </tr>\n",
       "  </thead>\n",
       "  <tbody>\n",
       "    <tr>\n",
       "      <th>0</th>\n",
       "      <td>http://environment.data.gov.uk/flood-monitorin...</td>\n",
       "      <td>7041</td>\n",
       "      <td>Cotswolds</td>\n",
       "      <td>1994-01-01</td>\n",
       "      <td>NaN</td>\n",
       "      <td>417990</td>\n",
       "      <td>Bourton Dickler</td>\n",
       "      <td>51.874767</td>\n",
       "      <td>-1.740083</td>\n",
       "      <td>219610</td>\n",
       "      <td>1029TH</td>\n",
       "      <td>River Dikler</td>\n",
       "      <td>http://environment.data.gov.uk/flood-monitorin...</td>\n",
       "      <td>1029TH</td>\n",
       "      <td>http://environment.data.gov.uk/flood-monitorin...</td>\n",
       "      <td>Little Rissington</td>\n",
       "      <td>1029TH</td>\n",
       "      <td>[{\"@id\": \"http://environment.data.gov.uk/flood...</td>\n",
       "      <td>1029TH</td>\n",
       "    </tr>\n",
       "    <tr>\n",
       "      <th>1</th>\n",
       "      <td>http://environment.data.gov.uk/flood-monitorin...</td>\n",
       "      <td>6022</td>\n",
       "      <td>Welland</td>\n",
       "      <td>1992-01-01</td>\n",
       "      <td>2.0</td>\n",
       "      <td>528000</td>\n",
       "      <td>Surfleet Sluice</td>\n",
       "      <td>52.845991</td>\n",
       "      <td>-0.100848</td>\n",
       "      <td>329300</td>\n",
       "      <td>E2043</td>\n",
       "      <td>River Glen</td>\n",
       "      <td>http://environment.data.gov.uk/flood-monitorin...</td>\n",
       "      <td>E2043</td>\n",
       "      <td>http://environment.data.gov.uk/flood-monitorin...</td>\n",
       "      <td>Surfleet Seas End</td>\n",
       "      <td>L31004</td>\n",
       "      <td>[{\"@id\": \"http://environment.data.gov.uk/flood...</td>\n",
       "      <td>E2043</td>\n",
       "    </tr>\n",
       "  </tbody>\n",
       "</table>\n",
       "</div>"
      ],
      "text/plain": [
       "                                                  id RLOIid catchmentName  \\\n",
       "0  http://environment.data.gov.uk/flood-monitorin...   7041     Cotswolds   \n",
       "1  http://environment.data.gov.uk/flood-monitorin...   6022       Welland   \n",
       "\n",
       "   dateOpened  datumOffset easting            label        lat      long  \\\n",
       "0  1994-01-01          NaN  417990  Bourton Dickler  51.874767 -1.740083   \n",
       "1  1992-01-01          2.0  528000  Surfleet Sluice  52.845991 -0.100848   \n",
       "\n",
       "  northing notation     riverName  \\\n",
       "0   219610   1029TH  River Dikler   \n",
       "1   329300    E2043    River Glen   \n",
       "\n",
       "                                          stageScale stationReference  \\\n",
       "0  http://environment.data.gov.uk/flood-monitorin...           1029TH   \n",
       "1  http://environment.data.gov.uk/flood-monitorin...            E2043   \n",
       "\n",
       "                                              status               town  \\\n",
       "0  http://environment.data.gov.uk/flood-monitorin...  Little Rissington   \n",
       "1  http://environment.data.gov.uk/flood-monitorin...  Surfleet Seas End   \n",
       "\n",
       "  wiskiID                                           measures station_id  \n",
       "0  1029TH  [{\"@id\": \"http://environment.data.gov.uk/flood...     1029TH  \n",
       "1  L31004  [{\"@id\": \"http://environment.data.gov.uk/flood...      E2043  "
      ]
     },
     "execution_count": 104,
     "metadata": {},
     "output_type": "execute_result"
    }
   ],
   "source": [
    "data.head(2)"
   ]
  },
  {
   "cell_type": "code",
   "execution_count": 106,
   "metadata": {},
   "outputs": [],
   "source": [
    "data = pd.read_csv(\"geocoded_data.csv\")"
   ]
  },
  {
   "cell_type": "code",
   "execution_count": null,
   "metadata": {},
   "outputs": [],
   "source": []
  },
  {
   "cell_type": "code",
   "execution_count": 108,
   "metadata": {},
   "outputs": [
    {
     "data": {
      "text/html": [
       "<div>\n",
       "<style scoped>\n",
       "    .dataframe tbody tr th:only-of-type {\n",
       "        vertical-align: middle;\n",
       "    }\n",
       "\n",
       "    .dataframe tbody tr th {\n",
       "        vertical-align: top;\n",
       "    }\n",
       "\n",
       "    .dataframe thead th {\n",
       "        text-align: right;\n",
       "    }\n",
       "</style>\n",
       "<table border=\"1\" class=\"dataframe\">\n",
       "  <thead>\n",
       "    <tr style=\"text-align: right;\">\n",
       "      <th></th>\n",
       "      <th>id</th>\n",
       "      <th>RLOIid</th>\n",
       "      <th>catchmentName</th>\n",
       "      <th>dateOpened</th>\n",
       "      <th>datumOffset</th>\n",
       "      <th>easting</th>\n",
       "      <th>label</th>\n",
       "      <th>lat</th>\n",
       "      <th>long</th>\n",
       "      <th>northing</th>\n",
       "      <th>notation</th>\n",
       "      <th>riverName</th>\n",
       "      <th>stageScale</th>\n",
       "      <th>stationReference</th>\n",
       "      <th>status</th>\n",
       "      <th>town</th>\n",
       "      <th>wiskiID</th>\n",
       "      <th>measures</th>\n",
       "      <th>station_id</th>\n",
       "      <th>county</th>\n",
       "    </tr>\n",
       "  </thead>\n",
       "  <tbody>\n",
       "    <tr>\n",
       "      <th>0</th>\n",
       "      <td>http://environment.data.gov.uk/flood-monitorin...</td>\n",
       "      <td>7041</td>\n",
       "      <td>Cotswolds</td>\n",
       "      <td>1994-01-01</td>\n",
       "      <td>NaN</td>\n",
       "      <td>417990</td>\n",
       "      <td>Bourton Dickler</td>\n",
       "      <td>51.874767</td>\n",
       "      <td>-1.740083</td>\n",
       "      <td>219610</td>\n",
       "      <td>1029TH</td>\n",
       "      <td>River Dikler</td>\n",
       "      <td>http://environment.data.gov.uk/flood-monitorin...</td>\n",
       "      <td>1029TH</td>\n",
       "      <td>http://environment.data.gov.uk/flood-monitorin...</td>\n",
       "      <td>Little Rissington</td>\n",
       "      <td>1029TH</td>\n",
       "      <td>[{\"@id\": \"http://environment.data.gov.uk/flood...</td>\n",
       "      <td>1029TH</td>\n",
       "      <td>Gloucestershire</td>\n",
       "    </tr>\n",
       "    <tr>\n",
       "      <th>1</th>\n",
       "      <td>http://environment.data.gov.uk/flood-monitorin...</td>\n",
       "      <td>6022</td>\n",
       "      <td>Welland</td>\n",
       "      <td>1992-01-01</td>\n",
       "      <td>2.0</td>\n",
       "      <td>528000</td>\n",
       "      <td>Surfleet Sluice</td>\n",
       "      <td>52.845991</td>\n",
       "      <td>-0.100848</td>\n",
       "      <td>329300</td>\n",
       "      <td>E2043</td>\n",
       "      <td>River Glen</td>\n",
       "      <td>http://environment.data.gov.uk/flood-monitorin...</td>\n",
       "      <td>E2043</td>\n",
       "      <td>http://environment.data.gov.uk/flood-monitorin...</td>\n",
       "      <td>Surfleet Seas End</td>\n",
       "      <td>L31004</td>\n",
       "      <td>[{\"@id\": \"http://environment.data.gov.uk/flood...</td>\n",
       "      <td>E2043</td>\n",
       "      <td>Lincolnshire</td>\n",
       "    </tr>\n",
       "    <tr>\n",
       "      <th>2</th>\n",
       "      <td>http://environment.data.gov.uk/flood-monitorin...</td>\n",
       "      <td>3072</td>\n",
       "      <td>Parrett, Brue and West Somerset Streams</td>\n",
       "      <td>1997-01-01</td>\n",
       "      <td>10.0</td>\n",
       "      <td>344383</td>\n",
       "      <td>Gaw Bridge</td>\n",
       "      <td>50.976043</td>\n",
       "      <td>-2.793549</td>\n",
       "      <td>119926</td>\n",
       "      <td>52119</td>\n",
       "      <td>River Parrett</td>\n",
       "      <td>http://environment.data.gov.uk/flood-monitorin...</td>\n",
       "      <td>52119</td>\n",
       "      <td>http://environment.data.gov.uk/flood-monitorin...</td>\n",
       "      <td>Kingsbury Episcopi</td>\n",
       "      <td>520320_FW</td>\n",
       "      <td>[{\"@id\": \"http://environment.data.gov.uk/flood...</td>\n",
       "      <td>52119</td>\n",
       "      <td>East Ayrshire</td>\n",
       "    </tr>\n",
       "  </tbody>\n",
       "</table>\n",
       "</div>"
      ],
      "text/plain": [
       "                                                  id RLOIid  \\\n",
       "0  http://environment.data.gov.uk/flood-monitorin...   7041   \n",
       "1  http://environment.data.gov.uk/flood-monitorin...   6022   \n",
       "2  http://environment.data.gov.uk/flood-monitorin...   3072   \n",
       "\n",
       "                             catchmentName  dateOpened  datumOffset easting  \\\n",
       "0                                Cotswolds  1994-01-01          NaN  417990   \n",
       "1                                  Welland  1992-01-01          2.0  528000   \n",
       "2  Parrett, Brue and West Somerset Streams  1997-01-01         10.0  344383   \n",
       "\n",
       "             label        lat       long northing notation      riverName  \\\n",
       "0  Bourton Dickler  51.874767  -1.740083   219610   1029TH   River Dikler   \n",
       "1  Surfleet Sluice  52.845991  -0.100848   329300    E2043     River Glen   \n",
       "2       Gaw Bridge  50.976043  -2.793549   119926    52119  River Parrett   \n",
       "\n",
       "                                          stageScale stationReference  \\\n",
       "0  http://environment.data.gov.uk/flood-monitorin...           1029TH   \n",
       "1  http://environment.data.gov.uk/flood-monitorin...            E2043   \n",
       "2  http://environment.data.gov.uk/flood-monitorin...            52119   \n",
       "\n",
       "                                              status                town  \\\n",
       "0  http://environment.data.gov.uk/flood-monitorin...   Little Rissington   \n",
       "1  http://environment.data.gov.uk/flood-monitorin...   Surfleet Seas End   \n",
       "2  http://environment.data.gov.uk/flood-monitorin...  Kingsbury Episcopi   \n",
       "\n",
       "     wiskiID                                           measures station_id  \\\n",
       "0     1029TH  [{\"@id\": \"http://environment.data.gov.uk/flood...     1029TH   \n",
       "1     L31004  [{\"@id\": \"http://environment.data.gov.uk/flood...      E2043   \n",
       "2  520320_FW  [{\"@id\": \"http://environment.data.gov.uk/flood...      52119   \n",
       "\n",
       "            county  \n",
       "0  Gloucestershire  \n",
       "1     Lincolnshire  \n",
       "2    East Ayrshire  "
      ]
     },
     "execution_count": 108,
     "metadata": {},
     "output_type": "execute_result"
    }
   ],
   "source": [
    "data.head(3)"
   ]
  },
  {
   "cell_type": "code",
   "execution_count": 109,
   "metadata": {},
   "outputs": [
    {
     "data": {
      "text/plain": [
       "Index(['id', 'RLOIid', 'catchmentName', 'dateOpened', 'datumOffset', 'easting',\n",
       "       'label', 'lat', 'long', 'northing', 'notation', 'riverName',\n",
       "       'stageScale', 'stationReference', 'status', 'town', 'wiskiID',\n",
       "       'measures', 'station_id', 'county'],\n",
       "      dtype='object')"
      ]
     },
     "execution_count": 109,
     "metadata": {},
     "output_type": "execute_result"
    }
   ],
   "source": [
    "data.columns"
   ]
  },
  {
   "cell_type": "code",
   "execution_count": null,
   "metadata": {},
   "outputs": [],
   "source": [
    "app.layout = html.Div(\n",
    "    className=\"container scalable\",\n",
    "    children=[\n",
    "        html.Div(\n",
    "            id=\"banner\",\n",
    "            className=\"banner\",\n",
    "            children=[\n",
    "                html.Img(src=app.get_asset_url(\"defra.svg\"),className=\"logo\"),\n",
    "                html.H4(\"Real time flood monitoring analytics\"),\n",
    "\n",
    "            ],\n",
    "        ),\n",
    "        html.Div(\n",
    "            id=\"upper-container\",\n",
    "            className=\"row\",\n",
    "            children=[\n",
    "                build_upper_left_panel(),\n",
    "                html.Div(\n",
    "                    id=\"geo-map-outer\",\n",
    "                    className=\"six columns\",\n",
    "                    children=[\n",
    "                        html.P(\n",
    "                            id=\"map-title\",\n",
    "                            children=\" {}\".format(\n",
    "                                state_map[state_list[0]]\n",
    "                            ),\n",
    "                        ),\n",
    "                        html.Div(\n",
    "                            id=\"geo-map-loading-outer\",\n",
    "                            children=[\n",
    "                                dcc.Loading(\n",
    "                                    id=\"loading\",\n",
    "                                    children=dcc.Graph(\n",
    "                                        id=\"geo-map\",\n",
    "                                        figure={\n",
    "                                            \"data\": [],\n",
    "                                            \"layout\": dict(\n",
    "                                                plot_bgcolor=\"#171b26\",\n",
    "                                                paper_bgcolor=\"#171b26\",\n",
    "                                            ),\n",
    "                                        },\n",
    "                                    ),\n",
    "                                )\n",
    "                            ],\n",
    "                        ),\n",
    "                    ],\n",
    "                ),\n",
    "            ],\n",
    "        ),\n",
    "        html.Div(\n",
    "            id=\"lower-container\",\n",
    "            children=[\n",
    "                dcc.Graph(\n",
    "                    id=\"procedure-plot\",\n",
    "                    figure=generate_procedure_plot(\n",
    "                        data_dict[state_list[1]], cost_metric[0], init_region, []\n",
    "                    ),\n",
    "                )\n",
    "            ],\n",
    "        ),\n",
    "    ],\n",
    ")\n"
   ]
  },
  {
   "cell_type": "code",
   "execution_count": null,
   "metadata": {},
   "outputs": [],
   "source": []
  },
  {
   "cell_type": "code",
   "execution_count": null,
   "metadata": {},
   "outputs": [],
   "source": []
  },
  {
   "cell_type": "code",
   "execution_count": null,
   "metadata": {},
   "outputs": [],
   "source": []
  },
  {
   "cell_type": "code",
   "execution_count": 117,
   "metadata": {},
   "outputs": [],
   "source": [
    "data = pd.read_csv(\"geocoded_data.csv\")"
   ]
  },
  {
   "cell_type": "code",
   "execution_count": 120,
   "metadata": {},
   "outputs": [],
   "source": [
    "county_list = [\n",
    "    \"Bedfordshire\", \"Berkshire\", \"Bristol\", \"Buckinghamshire\", \"Cambridgeshire\",\n",
    "    \"Cheshire\", \"City of London\", \"Cornwall\", \"Cumbria\", \"Derbyshire\", \"Devon\",\n",
    "    \"Dorset\", \"Durham\", \"East Riding of Yorkshire\", \"East Sussex\", \"Essex\",\n",
    "    \"Gloucestershire\", \"Greater London\", \"Greater Manchester\", \"Hampshire\",\n",
    "    \"Herefordshire\", \"Hertfordshire\", \"Isle of Wight\", \"Kent\", \"Lancashire\",\n",
    "    \"Leicestershire\", \"Lincolnshire\", \"Merseyside\", \"Norfolk\", \"North Yorkshire\",\n",
    "    \"Northamptonshire\", \"Northumberland\", \"Nottinghamshire\", \"Oxfordshire\",\n",
    "    \"Rutland\", \"Shropshire\", \"Somerset\", \"South Yorkshire\", \"Staffordshire\",\n",
    "    \"Suffolk\", \"Surrey\", \"Tyne and Wear\", \"Warwickshire\", \"West Midlands\",\n",
    "    \"West Sussex\", \"West Yorkshire\", \"Wiltshire\", \"Worcestershire\",\n",
    "    \"Aberdeen City\", \"Aberdeenshire\", \"Angus\", \"Argyll and Bute\", \"Clackmannanshire\",\n",
    "    \"Dumfries and Galloway\", \"Dundee City\", \"East Ayrshire\", \"East Dunbartonshire\",\n",
    "    \"East Lothian\", \"East Renfrewshire\", \"Edinburgh, City of\", \"Falkirk\", \"Fife\",\n",
    "    \"Glasgow City\", \"Highland\", \"Inverclyde\", \"Midlothian\", \"Moray\",\n",
    "    \"Na h-Eileanan Siar (Western Isles)\", \"North Ayrshire\", \"North Lanarkshire\",\n",
    "    \"Orkney Islands\", \"Perth and Kinross\", \"Renfrewshire\", \"Scottish Borders\",\n",
    "    \"Shetland Islands\", \"South Ayrshire\", \"South Lanarkshire\", \"Stirling\",\n",
    "    \"West Dunbartonshire\", \"West Lothian\",\n",
    "    \"Clwyd\", \"Dyfed\", \"Gwent\", \"Gwynedd\", \"Mid Glamorgan\", \"Powys\",\n",
    "    \"South Glamorgan\", \"West Glamorgan\",\n",
    "    \"Antrim\", \"Armagh\", \"Down\", \"Fermanagh\", \"Londonderry\", \"Tyrone\"\n",
    "]"
   ]
  },
  {
   "cell_type": "code",
   "execution_count": 113,
   "metadata": {},
   "outputs": [
    {
     "data": {
      "text/plain": [
       "Index(['id', 'RLOIid', 'catchmentName', 'dateOpened', 'datumOffset', 'easting',\n",
       "       'label', 'lat', 'long', 'northing', 'notation', 'riverName',\n",
       "       'stageScale', 'stationReference', 'status', 'town', 'wiskiID',\n",
       "       'measures', 'station_id', 'county'],\n",
       "      dtype='object')"
      ]
     },
     "execution_count": 113,
     "metadata": {},
     "output_type": "execute_result"
    }
   ],
   "source": [
    "data.columns"
   ]
  },
  {
   "cell_type": "code",
   "execution_count": null,
   "metadata": {},
   "outputs": [],
   "source": []
  },
  {
   "cell_type": "code",
   "execution_count": 1,
   "metadata": {},
   "outputs": [
    {
     "data": {
      "application/vnd.plotly.v1+json": {
       "config": {
        "plotlyServerURL": "https://plot.ly"
       },
       "data": [
        {
         "hovertemplate": "measure_type=stage<br>DateTime=%{x}<br>Measurement Value=%{y}<extra></extra>",
         "legendgroup": "stage",
         "line": {
          "color": "#636efa",
          "dash": "solid"
         },
         "marker": {
          "symbol": "circle"
         },
         "mode": "markers+lines",
         "name": "stage",
         "orientation": "v",
         "showlegend": true,
         "type": "scatter",
         "x": [
          "2025-03-13T17:15:00+00:00",
          "2025-03-13T17:00:00+00:00",
          "2025-03-13T16:45:00+00:00",
          "2025-03-13T16:30:00+00:00",
          "2025-03-13T16:15:00+00:00",
          "2025-03-13T16:00:00+00:00",
          "2025-03-13T15:45:00+00:00",
          "2025-03-13T15:30:00+00:00",
          "2025-03-13T15:15:00+00:00",
          "2025-03-13T15:00:00+00:00",
          "2025-03-13T14:45:00+00:00",
          "2025-03-13T14:30:00+00:00",
          "2025-03-13T14:15:00+00:00",
          "2025-03-13T14:00:00+00:00",
          "2025-03-13T13:45:00+00:00",
          "2025-03-13T13:30:00+00:00",
          "2025-03-13T13:15:00+00:00",
          "2025-03-13T13:00:00+00:00",
          "2025-03-13T12:45:00+00:00",
          "2025-03-13T12:30:00+00:00",
          "2025-03-13T12:15:00+00:00",
          "2025-03-13T12:00:00+00:00",
          "2025-03-13T11:45:00+00:00",
          "2025-03-13T11:30:00+00:00",
          "2025-03-13T11:15:00+00:00",
          "2025-03-13T11:00:00+00:00",
          "2025-03-13T10:45:00+00:00",
          "2025-03-13T10:30:00+00:00",
          "2025-03-13T10:15:00+00:00",
          "2025-03-13T10:00:00+00:00",
          "2025-03-13T09:45:00+00:00",
          "2025-03-13T09:30:00+00:00",
          "2025-03-13T09:15:00+00:00",
          "2025-03-13T09:00:00+00:00",
          "2025-03-13T08:45:00+00:00",
          "2025-03-13T08:30:00+00:00",
          "2025-03-13T08:15:00+00:00",
          "2025-03-13T08:00:00+00:00",
          "2025-03-13T07:45:00+00:00",
          "2025-03-13T07:30:00+00:00",
          "2025-03-13T07:15:00+00:00",
          "2025-03-13T07:00:00+00:00",
          "2025-03-13T06:45:00+00:00",
          "2025-03-13T06:30:00+00:00",
          "2025-03-13T06:15:00+00:00",
          "2025-03-13T06:00:00+00:00",
          "2025-03-13T05:45:00+00:00",
          "2025-03-13T05:30:00+00:00",
          "2025-03-13T05:15:00+00:00",
          "2025-03-13T05:00:00+00:00",
          "2025-03-13T04:45:00+00:00",
          "2025-03-13T04:30:00+00:00",
          "2025-03-13T04:15:00+00:00",
          "2025-03-13T04:00:00+00:00",
          "2025-03-13T03:45:00+00:00",
          "2025-03-13T03:30:00+00:00",
          "2025-03-13T03:15:00+00:00",
          "2025-03-13T03:00:00+00:00",
          "2025-03-13T02:45:00+00:00",
          "2025-03-13T02:30:00+00:00",
          "2025-03-13T02:15:00+00:00",
          "2025-03-13T02:00:00+00:00",
          "2025-03-13T01:45:00+00:00",
          "2025-03-13T01:30:00+00:00",
          "2025-03-13T01:15:00+00:00",
          "2025-03-13T01:00:00+00:00",
          "2025-03-13T00:45:00+00:00",
          "2025-03-13T00:30:00+00:00",
          "2025-03-13T00:15:00+00:00",
          "2025-03-13T00:00:00+00:00",
          "2025-03-12T23:45:00+00:00",
          "2025-03-12T23:30:00+00:00",
          "2025-03-12T23:15:00+00:00",
          "2025-03-12T23:00:00+00:00",
          "2025-03-12T22:45:00+00:00",
          "2025-03-12T22:30:00+00:00",
          "2025-03-12T22:15:00+00:00",
          "2025-03-12T22:00:00+00:00",
          "2025-03-12T21:45:00+00:00",
          "2025-03-12T21:30:00+00:00",
          "2025-03-12T21:15:00+00:00",
          "2025-03-12T21:00:00+00:00",
          "2025-03-12T20:45:00+00:00",
          "2025-03-12T20:30:00+00:00",
          "2025-03-12T20:15:00+00:00",
          "2025-03-12T20:00:00+00:00",
          "2025-03-12T19:45:00+00:00",
          "2025-03-12T19:30:00+00:00",
          "2025-03-12T19:15:00+00:00",
          "2025-03-12T19:00:00+00:00",
          "2025-03-12T18:45:00+00:00",
          "2025-03-12T18:30:00+00:00",
          "2025-03-12T18:15:00+00:00",
          "2025-03-12T18:00:00+00:00",
          "2025-03-12T17:45:00+00:00"
         ],
         "xaxis": "x",
         "y": [
          0.763,
          0.751,
          0.755,
          0.753,
          0.752,
          0.752,
          0.75,
          0.746,
          0.747,
          0.751,
          0.747,
          0.747,
          0.742,
          0.744,
          0.746,
          0.748,
          0.751,
          0.749,
          0.748,
          0.749,
          0.746,
          0.744,
          0.736,
          0.733,
          0.736,
          0.738,
          0.734,
          0.731,
          0.73,
          0.726,
          0.727,
          0.726,
          0.722,
          0.731,
          0.742,
          0.747,
          0.75,
          0.756,
          0.765,
          0.767,
          0.763,
          0.76,
          0.758,
          0.756,
          0.755,
          0.75,
          0.748,
          0.745,
          0.741,
          0.739,
          0.738,
          0.733,
          0.727,
          0.724,
          0.719,
          0.718,
          0.715,
          0.705,
          0.705,
          0.705,
          0.702,
          0.702,
          0.701,
          0.697,
          0.695,
          0.69,
          0.688,
          0.685,
          0.684,
          0.68,
          0.677,
          0.675,
          0.671,
          0.67,
          0.666,
          0.664,
          0.66,
          0.658,
          0.655,
          0.653,
          0.65,
          0.648,
          0.645,
          0.642,
          0.638,
          0.635,
          0.632,
          0.627,
          0.625,
          0.622,
          0.617,
          0.614,
          0.608,
          0.603,
          0.599
         ],
         "yaxis": "y"
        }
       ],
       "layout": {
        "hovermode": "x unified",
        "legend": {
         "title": {
          "text": "measure_type"
         },
         "tracegroupgap": 0
        },
        "template": {
         "data": {
          "bar": [
           {
            "error_x": {
             "color": "#f2f5fa"
            },
            "error_y": {
             "color": "#f2f5fa"
            },
            "marker": {
             "line": {
              "color": "rgb(17,17,17)",
              "width": 0.5
             },
             "pattern": {
              "fillmode": "overlay",
              "size": 10,
              "solidity": 0.2
             }
            },
            "type": "bar"
           }
          ],
          "barpolar": [
           {
            "marker": {
             "line": {
              "color": "rgb(17,17,17)",
              "width": 0.5
             },
             "pattern": {
              "fillmode": "overlay",
              "size": 10,
              "solidity": 0.2
             }
            },
            "type": "barpolar"
           }
          ],
          "carpet": [
           {
            "aaxis": {
             "endlinecolor": "#A2B1C6",
             "gridcolor": "#506784",
             "linecolor": "#506784",
             "minorgridcolor": "#506784",
             "startlinecolor": "#A2B1C6"
            },
            "baxis": {
             "endlinecolor": "#A2B1C6",
             "gridcolor": "#506784",
             "linecolor": "#506784",
             "minorgridcolor": "#506784",
             "startlinecolor": "#A2B1C6"
            },
            "type": "carpet"
           }
          ],
          "choropleth": [
           {
            "colorbar": {
             "outlinewidth": 0,
             "ticks": ""
            },
            "type": "choropleth"
           }
          ],
          "contour": [
           {
            "colorbar": {
             "outlinewidth": 0,
             "ticks": ""
            },
            "colorscale": [
             [
              0,
              "#0d0887"
             ],
             [
              0.1111111111111111,
              "#46039f"
             ],
             [
              0.2222222222222222,
              "#7201a8"
             ],
             [
              0.3333333333333333,
              "#9c179e"
             ],
             [
              0.4444444444444444,
              "#bd3786"
             ],
             [
              0.5555555555555556,
              "#d8576b"
             ],
             [
              0.6666666666666666,
              "#ed7953"
             ],
             [
              0.7777777777777778,
              "#fb9f3a"
             ],
             [
              0.8888888888888888,
              "#fdca26"
             ],
             [
              1,
              "#f0f921"
             ]
            ],
            "type": "contour"
           }
          ],
          "contourcarpet": [
           {
            "colorbar": {
             "outlinewidth": 0,
             "ticks": ""
            },
            "type": "contourcarpet"
           }
          ],
          "heatmap": [
           {
            "colorbar": {
             "outlinewidth": 0,
             "ticks": ""
            },
            "colorscale": [
             [
              0,
              "#0d0887"
             ],
             [
              0.1111111111111111,
              "#46039f"
             ],
             [
              0.2222222222222222,
              "#7201a8"
             ],
             [
              0.3333333333333333,
              "#9c179e"
             ],
             [
              0.4444444444444444,
              "#bd3786"
             ],
             [
              0.5555555555555556,
              "#d8576b"
             ],
             [
              0.6666666666666666,
              "#ed7953"
             ],
             [
              0.7777777777777778,
              "#fb9f3a"
             ],
             [
              0.8888888888888888,
              "#fdca26"
             ],
             [
              1,
              "#f0f921"
             ]
            ],
            "type": "heatmap"
           }
          ],
          "heatmapgl": [
           {
            "colorbar": {
             "outlinewidth": 0,
             "ticks": ""
            },
            "colorscale": [
             [
              0,
              "#0d0887"
             ],
             [
              0.1111111111111111,
              "#46039f"
             ],
             [
              0.2222222222222222,
              "#7201a8"
             ],
             [
              0.3333333333333333,
              "#9c179e"
             ],
             [
              0.4444444444444444,
              "#bd3786"
             ],
             [
              0.5555555555555556,
              "#d8576b"
             ],
             [
              0.6666666666666666,
              "#ed7953"
             ],
             [
              0.7777777777777778,
              "#fb9f3a"
             ],
             [
              0.8888888888888888,
              "#fdca26"
             ],
             [
              1,
              "#f0f921"
             ]
            ],
            "type": "heatmapgl"
           }
          ],
          "histogram": [
           {
            "marker": {
             "pattern": {
              "fillmode": "overlay",
              "size": 10,
              "solidity": 0.2
             }
            },
            "type": "histogram"
           }
          ],
          "histogram2d": [
           {
            "colorbar": {
             "outlinewidth": 0,
             "ticks": ""
            },
            "colorscale": [
             [
              0,
              "#0d0887"
             ],
             [
              0.1111111111111111,
              "#46039f"
             ],
             [
              0.2222222222222222,
              "#7201a8"
             ],
             [
              0.3333333333333333,
              "#9c179e"
             ],
             [
              0.4444444444444444,
              "#bd3786"
             ],
             [
              0.5555555555555556,
              "#d8576b"
             ],
             [
              0.6666666666666666,
              "#ed7953"
             ],
             [
              0.7777777777777778,
              "#fb9f3a"
             ],
             [
              0.8888888888888888,
              "#fdca26"
             ],
             [
              1,
              "#f0f921"
             ]
            ],
            "type": "histogram2d"
           }
          ],
          "histogram2dcontour": [
           {
            "colorbar": {
             "outlinewidth": 0,
             "ticks": ""
            },
            "colorscale": [
             [
              0,
              "#0d0887"
             ],
             [
              0.1111111111111111,
              "#46039f"
             ],
             [
              0.2222222222222222,
              "#7201a8"
             ],
             [
              0.3333333333333333,
              "#9c179e"
             ],
             [
              0.4444444444444444,
              "#bd3786"
             ],
             [
              0.5555555555555556,
              "#d8576b"
             ],
             [
              0.6666666666666666,
              "#ed7953"
             ],
             [
              0.7777777777777778,
              "#fb9f3a"
             ],
             [
              0.8888888888888888,
              "#fdca26"
             ],
             [
              1,
              "#f0f921"
             ]
            ],
            "type": "histogram2dcontour"
           }
          ],
          "mesh3d": [
           {
            "colorbar": {
             "outlinewidth": 0,
             "ticks": ""
            },
            "type": "mesh3d"
           }
          ],
          "parcoords": [
           {
            "line": {
             "colorbar": {
              "outlinewidth": 0,
              "ticks": ""
             }
            },
            "type": "parcoords"
           }
          ],
          "pie": [
           {
            "automargin": true,
            "type": "pie"
           }
          ],
          "scatter": [
           {
            "marker": {
             "line": {
              "color": "#283442"
             }
            },
            "type": "scatter"
           }
          ],
          "scatter3d": [
           {
            "line": {
             "colorbar": {
              "outlinewidth": 0,
              "ticks": ""
             }
            },
            "marker": {
             "colorbar": {
              "outlinewidth": 0,
              "ticks": ""
             }
            },
            "type": "scatter3d"
           }
          ],
          "scattercarpet": [
           {
            "marker": {
             "colorbar": {
              "outlinewidth": 0,
              "ticks": ""
             }
            },
            "type": "scattercarpet"
           }
          ],
          "scattergeo": [
           {
            "marker": {
             "colorbar": {
              "outlinewidth": 0,
              "ticks": ""
             }
            },
            "type": "scattergeo"
           }
          ],
          "scattergl": [
           {
            "marker": {
             "line": {
              "color": "#283442"
             }
            },
            "type": "scattergl"
           }
          ],
          "scattermapbox": [
           {
            "marker": {
             "colorbar": {
              "outlinewidth": 0,
              "ticks": ""
             }
            },
            "type": "scattermapbox"
           }
          ],
          "scatterpolar": [
           {
            "marker": {
             "colorbar": {
              "outlinewidth": 0,
              "ticks": ""
             }
            },
            "type": "scatterpolar"
           }
          ],
          "scatterpolargl": [
           {
            "marker": {
             "colorbar": {
              "outlinewidth": 0,
              "ticks": ""
             }
            },
            "type": "scatterpolargl"
           }
          ],
          "scatterternary": [
           {
            "marker": {
             "colorbar": {
              "outlinewidth": 0,
              "ticks": ""
             }
            },
            "type": "scatterternary"
           }
          ],
          "surface": [
           {
            "colorbar": {
             "outlinewidth": 0,
             "ticks": ""
            },
            "colorscale": [
             [
              0,
              "#0d0887"
             ],
             [
              0.1111111111111111,
              "#46039f"
             ],
             [
              0.2222222222222222,
              "#7201a8"
             ],
             [
              0.3333333333333333,
              "#9c179e"
             ],
             [
              0.4444444444444444,
              "#bd3786"
             ],
             [
              0.5555555555555556,
              "#d8576b"
             ],
             [
              0.6666666666666666,
              "#ed7953"
             ],
             [
              0.7777777777777778,
              "#fb9f3a"
             ],
             [
              0.8888888888888888,
              "#fdca26"
             ],
             [
              1,
              "#f0f921"
             ]
            ],
            "type": "surface"
           }
          ],
          "table": [
           {
            "cells": {
             "fill": {
              "color": "#506784"
             },
             "line": {
              "color": "rgb(17,17,17)"
             }
            },
            "header": {
             "fill": {
              "color": "#2a3f5f"
             },
             "line": {
              "color": "rgb(17,17,17)"
             }
            },
            "type": "table"
           }
          ]
         },
         "layout": {
          "annotationdefaults": {
           "arrowcolor": "#f2f5fa",
           "arrowhead": 0,
           "arrowwidth": 1
          },
          "autotypenumbers": "strict",
          "coloraxis": {
           "colorbar": {
            "outlinewidth": 0,
            "ticks": ""
           }
          },
          "colorscale": {
           "diverging": [
            [
             0,
             "#8e0152"
            ],
            [
             0.1,
             "#c51b7d"
            ],
            [
             0.2,
             "#de77ae"
            ],
            [
             0.3,
             "#f1b6da"
            ],
            [
             0.4,
             "#fde0ef"
            ],
            [
             0.5,
             "#f7f7f7"
            ],
            [
             0.6,
             "#e6f5d0"
            ],
            [
             0.7,
             "#b8e186"
            ],
            [
             0.8,
             "#7fbc41"
            ],
            [
             0.9,
             "#4d9221"
            ],
            [
             1,
             "#276419"
            ]
           ],
           "sequential": [
            [
             0,
             "#0d0887"
            ],
            [
             0.1111111111111111,
             "#46039f"
            ],
            [
             0.2222222222222222,
             "#7201a8"
            ],
            [
             0.3333333333333333,
             "#9c179e"
            ],
            [
             0.4444444444444444,
             "#bd3786"
            ],
            [
             0.5555555555555556,
             "#d8576b"
            ],
            [
             0.6666666666666666,
             "#ed7953"
            ],
            [
             0.7777777777777778,
             "#fb9f3a"
            ],
            [
             0.8888888888888888,
             "#fdca26"
            ],
            [
             1,
             "#f0f921"
            ]
           ],
           "sequentialminus": [
            [
             0,
             "#0d0887"
            ],
            [
             0.1111111111111111,
             "#46039f"
            ],
            [
             0.2222222222222222,
             "#7201a8"
            ],
            [
             0.3333333333333333,
             "#9c179e"
            ],
            [
             0.4444444444444444,
             "#bd3786"
            ],
            [
             0.5555555555555556,
             "#d8576b"
            ],
            [
             0.6666666666666666,
             "#ed7953"
            ],
            [
             0.7777777777777778,
             "#fb9f3a"
            ],
            [
             0.8888888888888888,
             "#fdca26"
            ],
            [
             1,
             "#f0f921"
            ]
           ]
          },
          "colorway": [
           "#636efa",
           "#EF553B",
           "#00cc96",
           "#ab63fa",
           "#FFA15A",
           "#19d3f3",
           "#FF6692",
           "#B6E880",
           "#FF97FF",
           "#FECB52"
          ],
          "font": {
           "color": "#f2f5fa"
          },
          "geo": {
           "bgcolor": "rgb(17,17,17)",
           "lakecolor": "rgb(17,17,17)",
           "landcolor": "rgb(17,17,17)",
           "showlakes": true,
           "showland": true,
           "subunitcolor": "#506784"
          },
          "hoverlabel": {
           "align": "left"
          },
          "hovermode": "closest",
          "mapbox": {
           "style": "dark"
          },
          "paper_bgcolor": "rgb(17,17,17)",
          "plot_bgcolor": "rgb(17,17,17)",
          "polar": {
           "angularaxis": {
            "gridcolor": "#506784",
            "linecolor": "#506784",
            "ticks": ""
           },
           "bgcolor": "rgb(17,17,17)",
           "radialaxis": {
            "gridcolor": "#506784",
            "linecolor": "#506784",
            "ticks": ""
           }
          },
          "scene": {
           "xaxis": {
            "backgroundcolor": "rgb(17,17,17)",
            "gridcolor": "#506784",
            "gridwidth": 2,
            "linecolor": "#506784",
            "showbackground": true,
            "ticks": "",
            "zerolinecolor": "#C8D4E3"
           },
           "yaxis": {
            "backgroundcolor": "rgb(17,17,17)",
            "gridcolor": "#506784",
            "gridwidth": 2,
            "linecolor": "#506784",
            "showbackground": true,
            "ticks": "",
            "zerolinecolor": "#C8D4E3"
           },
           "zaxis": {
            "backgroundcolor": "rgb(17,17,17)",
            "gridcolor": "#506784",
            "gridwidth": 2,
            "linecolor": "#506784",
            "showbackground": true,
            "ticks": "",
            "zerolinecolor": "#C8D4E3"
           }
          },
          "shapedefaults": {
           "line": {
            "color": "#f2f5fa"
           }
          },
          "sliderdefaults": {
           "bgcolor": "#C8D4E3",
           "bordercolor": "rgb(17,17,17)",
           "borderwidth": 1,
           "tickwidth": 0
          },
          "ternary": {
           "aaxis": {
            "gridcolor": "#506784",
            "linecolor": "#506784",
            "ticks": ""
           },
           "baxis": {
            "gridcolor": "#506784",
            "linecolor": "#506784",
            "ticks": ""
           },
           "bgcolor": "rgb(17,17,17)",
           "caxis": {
            "gridcolor": "#506784",
            "linecolor": "#506784",
            "ticks": ""
           }
          },
          "title": {
           "x": 0.05
          },
          "updatemenudefaults": {
           "bgcolor": "#506784",
           "borderwidth": 0
          },
          "xaxis": {
           "automargin": true,
           "gridcolor": "#283442",
           "linecolor": "#506784",
           "ticks": "",
           "title": {
            "standoff": 15
           },
           "zerolinecolor": "#283442",
           "zerolinewidth": 2
          },
          "yaxis": {
           "automargin": true,
           "gridcolor": "#283442",
           "linecolor": "#506784",
           "ticks": "",
           "title": {
            "standoff": 15
           },
           "zerolinecolor": "#283442",
           "zerolinewidth": 2
          }
         }
        },
        "title": {
         "text": "Flood Monitoring Station Readings Over Time"
        },
        "xaxis": {
         "anchor": "y",
         "domain": [
          0,
          1
         ],
         "tickangle": -45,
         "title": {
          "text": "DateTime"
         }
        },
        "yaxis": {
         "anchor": "x",
         "domain": [
          0,
          1
         ],
         "title": {
          "text": "Measurement Value"
         }
        }
       }
      }
     },
     "metadata": {},
     "output_type": "display_data"
    }
   ],
   "source": [
    "import pandas as pd\n",
    "import datetime\n",
    "import requests\n",
    "import plotly.express as px\n",
    "\n",
    "# Calculate 24 hours ago from now in UTC\n",
    "now_utc = datetime.datetime.utcnow()\n",
    "since_str = (now_utc - datetime.timedelta(days=1)).strftime(\"%Y-%m-%dT%H:%M:%SZ\")\n",
    "\n",
    "# Construct the URL with parameters\n",
    "url = f\"https://environment.data.gov.uk/flood-monitoring/id/stations/E2043/readings?_sorted&since={since_str}&_limit=1000\"\n",
    "\n",
    "# Make the GET request\n",
    "response = requests.get(url)\n",
    "\n",
    "# Check if the request was successful\n",
    "if response.status_code == 200:\n",
    "    data = response.json()\n",
    "    \n",
    "    # Extract readings directly into a DataFrame\n",
    "    def get_measure_type(measure_url):\n",
    "        \"\"\"Extracts the measure type from the measure URL.\"\"\"\n",
    "        return measure_url.split('/')[-1].split('-')[2]  # Get the third part after splitting\n",
    "\n",
    "    readings_list = [\n",
    "        {\n",
    "            \"dateTime\": item[\"dateTime\"],\n",
    "            \"measure_type\": get_measure_type(item[\"measure\"]),\n",
    "            \"value\": item[\"value\"],\n",
    "        }\n",
    "        for item in data.get(\"items\", [])\n",
    "    ]\n",
    "\n",
    "    df = pd.DataFrame(readings_list)\n",
    "\n",
    "    if not df.empty:\n",
    "        # Convert 'dateTime' column to datetime format\n",
    "        df[\"dateTime\"] = pd.to_datetime(df[\"dateTime\"])\n",
    "\n",
    "        # Plot using Plotly\n",
    "        fig = px.line(\n",
    "            df,\n",
    "            x=\"dateTime\",\n",
    "            y=\"value\",\n",
    "            color=\"measure_type\",\n",
    "            markers=True,\n",
    "            title=\"Flood Monitoring Station Readings Over Time\",\n",
    "            labels={\"value\": \"Measurement Value\", \"dateTime\": \"DateTime\"},\n",
    "        )\n",
    "\n",
    "        fig.update_layout(\n",
    "            xaxis_title=\"DateTime\",\n",
    "            yaxis_title=\"Measurement Value\",\n",
    "            xaxis_tickangle=-45,\n",
    "            template=\"plotly_dark\",  # Dark theme for better visualization\n",
    "            hovermode=\"x unified\",\n",
    "        )\n",
    "\n",
    "        fig.show()\n",
    "\n"
   ]
  },
  {
   "cell_type": "code",
   "execution_count": 11,
   "metadata": {},
   "outputs": [
    {
     "name": "stdout",
     "output_type": "stream",
     "text": [
      "Note: you may need to restart the kernel to use updated packages.\n"
     ]
    }
   ],
   "source": [
    "pip install nbformat>=4.2.0"
   ]
  },
  {
   "cell_type": "code",
   "execution_count": 38,
   "metadata": {},
   "outputs": [],
   "source": [
    "data[\"label\"] = data[\"label\"].astype(str)"
   ]
  },
  {
   "cell_type": "code",
   "execution_count": 56,
   "metadata": {},
   "outputs": [
    {
     "data": {
      "text/plain": [
       "Index(['id', 'RLOIid', 'catchmentName', 'dateOpened', 'datumOffset', 'easting',\n",
       "       'label', 'lat', 'long', 'northing', 'notation', 'riverName',\n",
       "       'stageScale', 'stationReference', 'status', 'town', 'wiskiID',\n",
       "       'measures', 'station_id', 'county'],\n",
       "      dtype='object')"
      ]
     },
     "execution_count": 56,
     "metadata": {},
     "output_type": "execute_result"
    }
   ],
   "source": [
    "df.columns"
   ]
  },
  {
   "cell_type": "code",
   "execution_count": null,
   "metadata": {},
   "outputs": [],
   "source": []
  },
  {
   "cell_type": "code",
   "execution_count": null,
   "metadata": {},
   "outputs": [],
   "source": []
  },
  {
   "cell_type": "code",
   "execution_count": null,
   "metadata": {},
   "outputs": [],
   "source": []
  },
  {
   "cell_type": "code",
   "execution_count": null,
   "metadata": {},
   "outputs": [
    {
     "ename": "IndentationError",
     "evalue": "unexpected indent (<ipython-input-3-43684d8e56e0>, line 127)",
     "output_type": "error",
     "traceback": [
      "\u001b[0;36m  File \u001b[0;32m\"<ipython-input-3-43684d8e56e0>\"\u001b[0;36m, line \u001b[0;32m127\u001b[0m\n\u001b[0;31m    return {\"data\": [scatter_data], \"layout\": layout}\u001b[0m\n\u001b[0m    ^\u001b[0m\n\u001b[0;31mIndentationError\u001b[0m\u001b[0;31m:\u001b[0m unexpected indent\n"
     ]
    }
   ],
   "source": [
    "import dash\n",
    "import dash_core_components as dcc\n",
    "import dash_html_components as html\n",
    "from dash.dependencies import Input, Output\n",
    "import pandas as pd\n",
    "from dash_table import DataTable\n",
    "import colorsys\n",
    "import geopandas as gpd\n",
    "import plotly.graph_objects as go\n",
    "from sklearn.cluster import DBSCAN\n",
    "\n",
    "# Load data\n",
    "data = pd.read_csv(\"geocoded_data.csv\")\n",
    "\n",
    "app = dash.Dash(__name__)\n",
    "\n",
    "def build_upper_left_panel():\n",
    "    return html.Div(\n",
    "        id=\"upper-left\",\n",
    "        className=\"six columns\",\n",
    "        children=[\n",
    "            html.H3(\n",
    "                className=\"section-title\",\n",
    "                children=\"Please select the station\",\n",
    "                style={\"color\": \"#2E8B57\"}\n",
    "            ),\n",
    "            html.Div(\n",
    "                className=\"control-row-1\",\n",
    "                children=[\n",
    "                    html.Div(\n",
    "                        id=\"county-select-outer\",\n",
    "                        children=[\n",
    "                            html.Label(\n",
    "                                \"choose from the dropdown below\",\n",
    "                                style={\"color\": \"#FF4500\", \"font-weight\": \"bold\"}\n",
    "                            ),\n",
    "                           dcc.Dropdown(\n",
    "                               id=\"station-select\",\n",
    "                               options=[\n",
    "                                   {\"label\": str(station), \"value\": str(station)}\n",
    "                                   for station in data[\"station_id\"].unique() if pd.notna(station)\n",
    "                               ],\n",
    "                               value=str(data[\"station_id\"].unique()[0]),\n",
    "                               style={\n",
    "                                   \"backgroundColor\": \"green\",\n",
    "                                   \"color\": \"green\",\n",
    "                                   \"border\": \"2px solid #FFD700\",\n",
    "                                   \"borderRadius\": \"5px\",\n",
    "                                   \"fontFamily\": \"Arial\",\n",
    "                                   \"fontSize\": \"16px\",\n",
    "                               },\n",
    "                           )\n",
    "                        ],\n",
    "                    ),\n",
    "                ],\n",
    "            ),\n",
    "        ],\n",
    "    )\n",
    "\n",
    "def generate_colors(n):\n",
    "    colors = []\n",
    "    for i in range(n):\n",
    "        hue = i / n\n",
    "        rgb = colorsys.hsv_to_rgb(hue, 0.7, 0.9)\n",
    "        hex_color = '#{:02x}{:02x}{:02x}'.format(int(rgb[0]*255), int(rgb[1]*255), int(rgb[2]*255))\n",
    "        colors.append(hex_color)\n",
    "    return colors\n",
    "\n",
    "def generate_geo_map(plot_data):\n",
    "    geojson_file = 'uk.geojson'\n",
    "    gdf = gpd.read_file(geojson_file)\n",
    "    center_lat = gdf.geometry.centroid.y.mean()\n",
    "    center_lon = gdf.geometry.centroid.x.mean()\n",
    "    \n",
    "    scatter_data = go.Scattermapbox(\n",
    "        lat=plot_data['lat'],\n",
    "        lon=plot_data['long'],\n",
    "        mode='markers',\n",
    "        marker=dict(\n",
    "            size=8,\n",
    "            color=plot_data['point_color'],\n",
    "            opacity=plot_data['opacity'],\n",
    "            showscale=False\n",
    "        ),\n",
    "        text=plot_data.apply(\n",
    "            lambda row: f\"Town: {row['town']}<br>\"\n",
    "                        f\"Label: {row['label']}<br>\"\n",
    "                        f\"Station ID: {row['station_id']}<br>\"\n",
    "                        f\"Notation: {row['notation']}<br>\"\n",
    "                        f\"Lat: {row['lat']:.4f}<br>\"\n",
    "                        f\"Long: {row['long']:.4f}\",\n",
    "            axis=1\n",
    "        ),\n",
    "        hoverinfo='text',\n",
    "        customdata=plot_data['station_id']\n",
    "    )\n",
    "    \n",
    "     layout = go.Layout(\n",
    "         margin=dict(l=20, r=20, t=40, b=20, pad=10),\n",
    "         plot_bgcolor=\"#121212\",  # Darker shade for better contrast\n",
    "         paper_bgcolor=\"#121212\",\n",
    "         clickmode=\"event+select\",\n",
    "         hovermode=\"closest\",\n",
    "         showlegend=False,\n",
    "         font=dict(\n",
    "             color=\"white\",\n",
    "             family=\"Arial, sans-serif\",\n",
    "             size=14\n",
    "         ),\n",
    "         mapbox=go.layout.Mapbox(\n",
    "             center=go.layout.mapbox.Center(\n",
    "                 lat=center_lat,\n",
    "                 lon=center_lon\n",
    "             ),\n",
    "             zoom=5,  # Slightly increased zoom for better details\n",
    "             style=\"carto-darkmatter\"\n",
    "         ),\n",
    "         title=dict(\n",
    "             text=\"Enhanced Map Visualization\",\n",
    "             font=dict(size=18, color=\"white\"),\n",
    "             x=0.5,  # Centered title\n",
    "             y=0.95\n",
    "         )\n",
    "     )\n",
    "     \n",
    "    \n",
    "    return {\"data\": [scatter_data], \"layout\": layout}\n",
    "\n",
    "app.layout = html.Div([\n",
    "    build_upper_left_panel(),\n",
    "    html.Div(id=\"station-stats-table\"),\n",
    "    dcc.Graph(id='geo-map')\n",
    "])\n",
    "\n",
    "@app.callback(\n",
    "    [Output(\"geo-map\", \"figure\"),\n",
    "     Output(\"station-select\", \"value\"),\n",
    "     Output(\"station-stats-table\", \"children\")],\n",
    "    [Input(\"geo-map\", \"clickData\"),\n",
    "     Input(\"station-select\", \"value\")]\n",
    ")\n",
    "def update_geo_map_and_ui(click_data, id_select):\n",
    "    data_modified = data.copy()\n",
    "\n",
    "    def convert_coord(val, index):\n",
    "        if isinstance(val, str) and ',' in val:\n",
    "            parts = val.strip(\"[]\").split(\",\")\n",
    "            return float(parts[index].strip())\n",
    "        else:\n",
    "            return float(val)\n",
    "\n",
    "    data_modified['lat'] = data_modified['lat'].apply(lambda x: convert_coord(x, 0))\n",
    "    data_modified['long'] = data_modified['long'].apply(lambda x: convert_coord(x, 1))\n",
    "\n",
    "    # Clustering\n",
    "    X = data_modified[['lat', 'long']].to_numpy()\n",
    "    clustering = DBSCAN(eps=0.01, min_samples=1).fit(X)\n",
    "    data_modified['cluster'] = clustering.labels_\n",
    "    unique_clusters = data_modified['cluster'].unique()\n",
    "    cluster_colors = generate_colors(len(unique_clusters))\n",
    "    color_mapping = dict(zip(unique_clusters, cluster_colors))\n",
    "    data_modified['point_color'] = data_modified['cluster'].map(color_mapping)\n",
    "    data_modified['opacity'] = 1.0\n",
    "\n",
    "    # Determine the selected station: prioritize map click if available\n",
    "    if click_data is not None:\n",
    "        clicked_station = click_data['points'][0]['customdata']\n",
    "    else:\n",
    "        clicked_station = id_select\n",
    "\n",
    "    data_modified.loc[data_modified['station_id'] != clicked_station, 'opacity'] = 0.2\n",
    "    data_modified.loc[data_modified['station_id'] == clicked_station, 'point_color'] = 'black'\n",
    "\n",
    "    # Update the table with the selected station's details\n",
    "    station_df = data[data[\"station_id\"] == clicked_station]\n",
    "    selected_columns = [\"notation\", \"riverName\", \"town\", \"label\", \"station_id\"]\n",
    "    filtered_df = station_df[selected_columns]\n",
    "\n",
    "    table_data = filtered_df.to_dict(\"records\")\n",
    "    table_columns = [{\"name\": col, \"id\": col} for col in selected_columns]\n",
    "\n",
    "    table_component = html.Div(\n",
    "DataTable(\n",
    "    id=\"station-stats-table-table\",\n",
    "    columns=table_columns,\n",
    "    data=table_data,\n",
    "    filter_action=\"native\",\n",
    "    page_size=5,\n",
    "    style_cell={\n",
    "        \"background-color\": \"#2d3e32\",  # Dark green-gray background\n",
    "        \"color\": \"#e0f2e9\",  # Light green text\n",
    "        \"textAlign\": \"center\",\n",
    "        \"border\": \"1px solid #4a7c59\",\n",
    "    },\n",
    "    style_header={\n",
    "        \"background-color\": \"#3a5a40\",  # Deep green header\n",
    "        \"color\": \"#ffffff\",  # White text for contrast\n",
    "        \"fontWeight\": \"bold\",\n",
    "        \"textAlign\": \"center\",\n",
    "        \"padding\": \"5px\",\n",
    "    },\n",
    "    style_data_conditional=[\n",
    "        {\"if\": {\"row_index\": \"odd\"}, \"backgroundColor\": \"#4f6f52\"},  # Alternating row colors\n",
    "        {\"if\": {\"row_index\": \"even\"}, \"backgroundColor\": \"#2d3e32\"},\n",
    "        {\"if\": {\"state\": \"selected\"}, \"backgroundColor\": \"#81c784\", \"color\": \"#000\"},  # Highlight selection\n",
    "        {\n",
    "            \"if\": {\"column_id\": \"status\"},\n",
    "            \"backgroundColor\": \"#66bb6a\",  # Bright green for emphasis\n",
    "            \"color\": \"white\",\n",
    "            \"fontWeight\": \"bold\",\n",
    "        },  \n",
    "    ],\n",
    ")\n",
    "\n",
    "    )\n",
    "\n",
    "    return generate_geo_map(data_modified), clicked_station, table_component\n",
    "\n",
    "if __name__ == '__main__':\n",
    "    app.run_server(debug=True)\n"
   ]
  },
  {
   "cell_type": "code",
   "execution_count": null,
   "metadata": {},
   "outputs": [],
   "source": []
  },
  {
   "cell_type": "code",
   "execution_count": null,
   "metadata": {},
   "outputs": [],
   "source": []
  },
  {
   "cell_type": "code",
   "execution_count": null,
   "metadata": {},
   "outputs": [],
   "source": []
  },
  {
   "cell_type": "code",
   "execution_count": null,
   "metadata": {},
   "outputs": [],
   "source": []
  }
 ],
 "metadata": {
  "kernelspec": {
   "display_name": "cm",
   "language": "python",
   "name": "python3"
  },
  "language_info": {
   "codemirror_mode": {
    "name": "ipython",
    "version": 3
   },
   "file_extension": ".py",
   "mimetype": "text/x-python",
   "name": "python",
   "nbconvert_exporter": "python",
   "pygments_lexer": "ipython3",
   "version": "3.6.15"
  }
 },
 "nbformat": 4,
 "nbformat_minor": 2
}
