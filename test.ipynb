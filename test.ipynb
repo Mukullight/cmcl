{
 "cells": [
  {
   "cell_type": "code",
   "execution_count": null,
   "metadata": {},
   "outputs": [],
   "source": [
    "import numpy as np \n",
    "import pandas as pd \n",
    "from geopy.geocoders import Nominatim\n",
    "import time\n",
    "import requests\n",
    "import json\n",
    "import geopandas as gpd\n",
    "import plotly.graph_objects as go\n",
    "from dash import Dash, dcc, html, Input, Output\n",
    "import ast\n",
    "from sklearn.cluster import DBSCAN\n",
    "import colorsys\n",
    "import googlemaps\n",
    "import time"
   ]
  },
  {
   "cell_type": "code",
   "execution_count": null,
   "metadata": {},
   "outputs": [],
   "source": [
    "data = pd.read_csv(\"df.csv\")"
   ]
  },
  {
   "cell_type": "code",
   "execution_count": null,
   "metadata": {},
   "outputs": [],
   "source": [
    "data.info()"
   ]
  },
  {
   "cell_type": "code",
   "execution_count": null,
   "metadata": {},
   "outputs": [],
   "source": [
    "https://environment.data.gov.uk/flood-monitoring/id/stations/1491TH/readings?_sorted&_limit=196"
   ]
  },
  {
   "cell_type": "code",
   "execution_count": null,
   "metadata": {},
   "outputs": [],
   "source": [
    "import datetime\n",
    "import requests\n",
    "import json\n",
    "\n",
    "# Calculate 24 hours ago from now in UTC\n",
    "now_utc = datetime.datetime.utcnow()\n",
    "twenty_four_hours_ago = now_utc - datetime.timedelta(days=1)\n",
    "since_str = twenty_four_hours_ago.strftime(\"%Y-%m-%dT%H:%M:%SZ\")\n",
    "\n",
    "# Construct the URL with parameters\n",
    "url = f\"https://environment.data.gov.uk/flood-monitoring/id/stations/7041/readings?_sorted&since={since_str}&_limit=1000\"\n",
    "\n",
    "# Make the GET request\n",
    "response = requests.get(url)\n",
    "\n",
    "# Check if the request was successful\n",
    "if response.status_code == 200:\n",
    "    data = response.json()\n",
    "    # Save the data to a file\n",
    "    with open(\"station_data.json\", \"w\") as f:\n",
    "        json.dump(data, f)\n",
    "    print(\"Data saved successfully.\")\n",
    "else:\n",
    "    print(f\"Error: {response.status_code}\")"
   ]
  },
  {
   "cell_type": "code",
   "execution_count": null,
   "metadata": {},
   "outputs": [],
   "source": []
  },
  {
   "cell_type": "code",
   "execution_count": null,
   "metadata": {},
   "outputs": [],
   "source": []
  },
  {
   "cell_type": "code",
   "execution_count": null,
   "metadata": {},
   "outputs": [],
   "source": [
    "https://environment.data.gov.uk/flood-monitoring/id/stations/1491TH/measures"
   ]
  },
  {
   "cell_type": "code",
   "execution_count": null,
   "metadata": {},
   "outputs": [],
   "source": [
    "county_list = {\n",
    "    \n",
    "        \"Bedfordshire\", \"Berkshire\", \"Bristol\", \"Buckinghamshire\", \"Cambridgeshire\",\n",
    "        \"Cheshire\", \"City of London\", \"Cornwall\", \"Cumbria\", \"Derbyshire\", \"Devon\",\n",
    "        \"Dorset\", \"Durham\", \"East Riding of Yorkshire\", \"East Sussex\", \"Essex\",\n",
    "        \"Gloucestershire\", \"Greater London\", \"Greater Manchester\", \"Hampshire\",\n",
    "        \"Herefordshire\", \"Hertfordshire\", \"Isle of Wight\", \"Kent\", \"Lancashire\",\n",
    "        \"Leicestershire\", \"Lincolnshire\", \"Merseyside\", \"Norfolk\", \"North Yorkshire\",\n",
    "        \"Northamptonshire\", \"Northumberland\", \"Nottinghamshire\", \"Oxfordshire\",\n",
    "        \"Rutland\", \"Shropshire\", \"Somerset\", \"South Yorkshire\", \"Staffordshire\",\n",
    "        \"Suffolk\", \"Surrey\", \"Tyne and Wear\", \"Warwickshire\", \"West Midlands\",\n",
    "        \"West Sussex\", \"West Yorkshire\", \"Wiltshire\", \"Worcestershire\",\n",
    "        \"Aberdeen City\", \"Aberdeenshire\", \"Angus\", \"Argyll and Bute\", \"Clackmannanshire\",\n",
    "        \"Dumfries and Galloway\", \"Dundee City\", \"East Ayrshire\", \"East Dunbartonshire\",\n",
    "        \"East Lothian\", \"East Renfrewshire\", \"Edinburgh, City of\", \"Falkirk\", \"Fife\",\n",
    "        \"Glasgow City\", \"Highland\", \"Inverclyde\", \"Midlothian\", \"Moray\",\n",
    "        \"Na h-Eileanan Siar (Western Isles)\", \"North Ayrshire\", \"North Lanarkshire\",\n",
    "        \"Orkney Islands\", \"Perth and Kinross\", \"Renfrewshire\", \"Scottish Borders\",\n",
    "        \"Shetland Islands\", \"South Ayrshire\", \"South Lanarkshire\", \"Stirling\",\n",
    "        \"West Dunbartonshire\", \"West Lothian\",\n",
    "        \"Clwyd\", \"Dyfed\", \"Gwent\", \"Gwynedd\", \"Mid Glamorgan\", \"Powys\",\n",
    "        \"South Glamorgan\", \"West Glamorgan\",\n",
    "        \"Antrim\", \"Armagh\", \"Down\", \"Fermanagh\", \"Londonderry\", \"Tyrone\"   \n",
    "}"
   ]
  },
  {
   "cell_type": "code",
   "execution_count": null,
   "metadata": {},
   "outputs": [],
   "source": [
    "\n",
    "\n",
    "def build_upper_left_panel():\n",
    "    return html.Div(\n",
    "        id=\"upper-left\",\n",
    "        className=\"six columns\",\n",
    "        children=[\n",
    "            html.H3(\n",
    "                className=\"section-title\",\n",
    "                children=\"Please select the county\",\n",
    "            ),\n",
    "            html.Div(\n",
    "                className=\"control-row-1\",\n",
    "                children=[\n",
    "                    html.Div(\n",
    "                        id=\"state-select-outer\",\n",
    "                        children=[\n",
    "                            html.Label(\"Select a region\"),\n",
    "                            dcc.Dropdown(\n",
    "                                id=\"state-select\",\n",
    "                                options=[{\"label\": i, \"value\": i} for i in county_list],\n",
    "                                value=county_list[1],\n",
    "                            ),\n",
    "                        ],\n",
    "                    ),\n",
    "                ],\n",
    "            ),\n",
    "            html.Div(\n",
    "                id=\"table-container\",\n",
    "                className=\"table-container\",\n",
    "                children=[\n",
    "                    html.Div(\n",
    "                        id=\"table-upper\",\n",
    "                        children=[\n",
    "                            html.P(\"24 hour value chart for the metric\"),\n",
    "                            dcc.Loading(children=html.Div(id=\"cost-stats-container\")),\n",
    "                        ],\n",
    "                    ),\n",
    "                ],\n",
    "            ),\n",
    "        ],\n",
    "    )\n"
   ]
  },
  {
   "cell_type": "code",
   "execution_count": null,
   "metadata": {},
   "outputs": [],
   "source": [
    "data.head(2)"
   ]
  },
  {
   "cell_type": "code",
   "execution_count": null,
   "metadata": {},
   "outputs": [],
   "source": [
    "data = pd.read_csv(\"geocoded_data.csv\")"
   ]
  },
  {
   "cell_type": "code",
   "execution_count": null,
   "metadata": {},
   "outputs": [],
   "source": []
  },
  {
   "cell_type": "code",
   "execution_count": null,
   "metadata": {},
   "outputs": [],
   "source": [
    "data.head(3)"
   ]
  },
  {
   "cell_type": "code",
   "execution_count": null,
   "metadata": {},
   "outputs": [],
   "source": [
    "data.columns"
   ]
  },
  {
   "cell_type": "code",
   "execution_count": null,
   "metadata": {},
   "outputs": [],
   "source": [
    "app.layout = html.Div(\n",
    "    className=\"container scalable\",\n",
    "    children=[\n",
    "        html.Div(\n",
    "            id=\"banner\",\n",
    "            className=\"banner\",\n",
    "            children=[\n",
    "                html.Img(src=app.get_asset_url(\"defra.svg\"),className=\"logo\"),\n",
    "                html.H4(\"Real time flood monitoring analytics\"),\n",
    "\n",
    "            ],\n",
    "        ),\n",
    "        html.Div(\n",
    "            id=\"upper-container\",\n",
    "            className=\"row\",\n",
    "            children=[\n",
    "                build_upper_left_panel(),\n",
    "                html.Div(\n",
    "                    id=\"geo-map-outer\",\n",
    "                    className=\"six columns\",\n",
    "                    children=[\n",
    "                        html.P(\n",
    "                            id=\"map-title\",\n",
    "                            children=\" {}\".format(\n",
    "                                state_map[state_list[0]]\n",
    "                            ),\n",
    "                        ),\n",
    "                        html.Div(\n",
    "                            id=\"geo-map-loading-outer\",\n",
    "                            children=[\n",
    "                                dcc.Loading(\n",
    "                                    id=\"loading\",\n",
    "                                    children=dcc.Graph(\n",
    "                                        id=\"geo-map\",\n",
    "                                        figure={\n",
    "                                            \"data\": [],\n",
    "                                            \"layout\": dict(\n",
    "                                                plot_bgcolor=\"#171b26\",\n",
    "                                                paper_bgcolor=\"#171b26\",\n",
    "                                            ),\n",
    "                                        },\n",
    "                                    ),\n",
    "                                )\n",
    "                            ],\n",
    "                        ),\n",
    "                    ],\n",
    "                ),\n",
    "            ],\n",
    "        ),\n",
    "        html.Div(\n",
    "            id=\"lower-container\",\n",
    "            children=[\n",
    "                dcc.Graph(\n",
    "                    id=\"procedure-plot\",\n",
    "                    figure=generate_procedure_plot(\n",
    "                        data_dict[state_list[1]], cost_metric[0], init_region, []\n",
    "                    ),\n",
    "                )\n",
    "            ],\n",
    "        ),\n",
    "    ],\n",
    ")\n"
   ]
  },
  {
   "cell_type": "code",
   "execution_count": null,
   "metadata": {},
   "outputs": [],
   "source": []
  },
  {
   "cell_type": "code",
   "execution_count": null,
   "metadata": {},
   "outputs": [],
   "source": []
  },
  {
   "cell_type": "code",
   "execution_count": null,
   "metadata": {},
   "outputs": [],
   "source": []
  },
  {
   "cell_type": "code",
   "execution_count": null,
   "metadata": {},
   "outputs": [],
   "source": [
    "data = pd.read_csv(\"geocoded_data.csv\")"
   ]
  },
  {
   "cell_type": "code",
   "execution_count": null,
   "metadata": {},
   "outputs": [],
   "source": [
    "county_list = [\n",
    "    \"Bedfordshire\", \"Berkshire\", \"Bristol\", \"Buckinghamshire\", \"Cambridgeshire\",\n",
    "    \"Cheshire\", \"City of London\", \"Cornwall\", \"Cumbria\", \"Derbyshire\", \"Devon\",\n",
    "    \"Dorset\", \"Durham\", \"East Riding of Yorkshire\", \"East Sussex\", \"Essex\",\n",
    "    \"Gloucestershire\", \"Greater London\", \"Greater Manchester\", \"Hampshire\",\n",
    "    \"Herefordshire\", \"Hertfordshire\", \"Isle of Wight\", \"Kent\", \"Lancashire\",\n",
    "    \"Leicestershire\", \"Lincolnshire\", \"Merseyside\", \"Norfolk\", \"North Yorkshire\",\n",
    "    \"Northamptonshire\", \"Northumberland\", \"Nottinghamshire\", \"Oxfordshire\",\n",
    "    \"Rutland\", \"Shropshire\", \"Somerset\", \"South Yorkshire\", \"Staffordshire\",\n",
    "    \"Suffolk\", \"Surrey\", \"Tyne and Wear\", \"Warwickshire\", \"West Midlands\",\n",
    "    \"West Sussex\", \"West Yorkshire\", \"Wiltshire\", \"Worcestershire\",\n",
    "    \"Aberdeen City\", \"Aberdeenshire\", \"Angus\", \"Argyll and Bute\", \"Clackmannanshire\",\n",
    "    \"Dumfries and Galloway\", \"Dundee City\", \"East Ayrshire\", \"East Dunbartonshire\",\n",
    "    \"East Lothian\", \"East Renfrewshire\", \"Edinburgh, City of\", \"Falkirk\", \"Fife\",\n",
    "    \"Glasgow City\", \"Highland\", \"Inverclyde\", \"Midlothian\", \"Moray\",\n",
    "    \"Na h-Eileanan Siar (Western Isles)\", \"North Ayrshire\", \"North Lanarkshire\",\n",
    "    \"Orkney Islands\", \"Perth and Kinross\", \"Renfrewshire\", \"Scottish Borders\",\n",
    "    \"Shetland Islands\", \"South Ayrshire\", \"South Lanarkshire\", \"Stirling\",\n",
    "    \"West Dunbartonshire\", \"West Lothian\",\n",
    "    \"Clwyd\", \"Dyfed\", \"Gwent\", \"Gwynedd\", \"Mid Glamorgan\", \"Powys\",\n",
    "    \"South Glamorgan\", \"West Glamorgan\",\n",
    "    \"Antrim\", \"Armagh\", \"Down\", \"Fermanagh\", \"Londonderry\", \"Tyrone\"\n",
    "]"
   ]
  },
  {
   "cell_type": "code",
   "execution_count": null,
   "metadata": {},
   "outputs": [],
   "source": [
    "data.columns"
   ]
  },
  {
   "cell_type": "code",
   "execution_count": null,
   "metadata": {},
   "outputs": [],
   "source": []
  },
  {
   "cell_type": "code",
   "execution_count": 13,
   "metadata": {},
   "outputs": [],
   "source": [
    "import datetime\n",
    "import requests\n",
    "import pandas as pd\n",
    "import plotly.graph_objects as go\n",
    "from plotly.subplots import make_subplots\n",
    "\n",
    "def line_chart():\n",
    "    station_id = \"52119\"\n",
    "    now_utc = datetime.datetime.utcnow()\n",
    "    since_str = (now_utc - datetime.timedelta(days=1)).strftime(\"%Y-%m-%dT%H:%M:%SZ\")\n",
    "    \n",
    "    # Construct the API URL with parameters\n",
    "    url = f\"https://environment.data.gov.uk/flood-monitoring/id/stations/{station_id}/readings?_sorted&since={since_str}&_limit=1000\"\n",
    "    response = requests.get(url)\n",
    "    \n",
    "    if response.status_code == 200:\n",
    "        data = response.json()\n",
    "    \n",
    "        # Function to extract the measure type from the measure URL\n",
    "        def get_measure_type(measure_url):\n",
    "            return measure_url.split('/')[-1].split('-')[2]\n",
    "    \n",
    "        # Create a list of readings with datetime, measure_type, and value\n",
    "        readings_list = [\n",
    "            {\n",
    "                \"dateTime\": item[\"dateTime\"],\n",
    "                \"measure_type\": get_measure_type(item[\"measure\"]),\n",
    "                \"value\": item[\"value\"],\n",
    "            }\n",
    "            for item in data.get(\"items\", [])\n",
    "        ]\n",
    "    \n",
    "        # Convert the list of readings into a DataFrame\n",
    "        df = pd.DataFrame(readings_list)\n",
    "    \n",
    "        if not df.empty:\n",
    "            # Convert 'dateTime' column to datetime format\n",
    "            df[\"dateTime\"] = pd.to_datetime(df[\"dateTime\"])\n",
    "    \n",
    "            # Get the unique measure types from the DataFrame\n",
    "            measure_types = df[\"measure_type\"].unique()\n",
    "            \n",
    "            # Create subplots: one row per measure type\n",
    "            fig = make_subplots(\n",
    "                rows=len(measure_types), \n",
    "                cols=1, \n",
    "                shared_xaxes=True,\n",
    "                subplot_titles=[f\"{m_type}\" for m_type in measure_types]\n",
    "            )\n",
    "    \n",
    "            # Loop over each measure type and add its trace to the subplot\n",
    "            row = 1\n",
    "            for m_type in measure_types:\n",
    "                df_subset = df[df[\"measure_type\"] == m_type]\n",
    "                fig.add_trace(\n",
    "                    go.Scatter(\n",
    "                        x=df_subset[\"dateTime\"],\n",
    "                        y=df_subset[\"value\"],\n",
    "                        mode=\"lines+markers\",\n",
    "                        marker=dict(color=\"green\"),\n",
    "                        name=m_type,\n",
    "                    ),\n",
    "                    row=row,\n",
    "                    col=1,\n",
    "                )\n",
    "                fig.update_yaxes(title_text=\"Measurement Value\", row=row, col=1)\n",
    "                row += 1\n",
    "            \n",
    "            # Update x-axis and overall layout\n",
    "            fig.update_xaxes(title_text=\"DateTime\", tickangle=-45)\n",
    "            fig.update_layout(\n",
    "                title_text=\"Flood Monitoring Station Readings\",\n",
    "                template=\"plotly_dark\",\n",
    "                hovermode=\"x unified\",\n",
    "                height=300 * len(measure_types)  # Adjust height based on number of subplots\n",
    "            )\n",
    "            return fig\n"
   ]
  },
  {
   "cell_type": "code",
   "execution_count": 14,
   "metadata": {},
   "outputs": [
    {
     "data": {
      "application/vnd.plotly.v1+json": {
       "config": {
        "plotlyServerURL": "https://plot.ly"
       },
       "data": [
        {
         "marker": {
          "color": "green"
         },
         "mode": "lines+markers",
         "name": "stage",
         "type": "scatter",
         "x": [
          "2025-03-14T00:45:00+00:00",
          "2025-03-14T00:30:00+00:00",
          "2025-03-14T00:15:00+00:00",
          "2025-03-14T00:00:00+00:00",
          "2025-03-13T23:45:00+00:00",
          "2025-03-13T23:30:00+00:00",
          "2025-03-13T23:15:00+00:00",
          "2025-03-13T23:00:00+00:00",
          "2025-03-13T22:45:00+00:00",
          "2025-03-13T22:30:00+00:00",
          "2025-03-13T22:15:00+00:00",
          "2025-03-13T22:00:00+00:00",
          "2025-03-13T21:45:00+00:00",
          "2025-03-13T21:30:00+00:00",
          "2025-03-13T21:15:00+00:00",
          "2025-03-13T21:00:00+00:00",
          "2025-03-13T20:45:00+00:00",
          "2025-03-13T20:30:00+00:00",
          "2025-03-13T20:15:00+00:00",
          "2025-03-13T20:00:00+00:00",
          "2025-03-13T19:45:00+00:00",
          "2025-03-13T19:30:00+00:00",
          "2025-03-13T19:15:00+00:00",
          "2025-03-13T19:00:00+00:00",
          "2025-03-13T18:45:00+00:00",
          "2025-03-13T18:30:00+00:00",
          "2025-03-13T18:15:00+00:00",
          "2025-03-13T18:00:00+00:00",
          "2025-03-13T17:45:00+00:00",
          "2025-03-13T17:30:00+00:00",
          "2025-03-13T17:15:00+00:00",
          "2025-03-13T17:00:00+00:00",
          "2025-03-13T16:45:00+00:00",
          "2025-03-13T16:30:00+00:00",
          "2025-03-13T16:15:00+00:00",
          "2025-03-13T16:00:00+00:00",
          "2025-03-13T15:45:00+00:00",
          "2025-03-13T15:30:00+00:00",
          "2025-03-13T15:15:00+00:00",
          "2025-03-13T15:00:00+00:00",
          "2025-03-13T14:45:00+00:00",
          "2025-03-13T14:30:00+00:00",
          "2025-03-13T14:15:00+00:00",
          "2025-03-13T14:00:00+00:00",
          "2025-03-13T13:45:00+00:00",
          "2025-03-13T13:30:00+00:00",
          "2025-03-13T13:15:00+00:00",
          "2025-03-13T13:00:00+00:00",
          "2025-03-13T12:45:00+00:00",
          "2025-03-13T12:30:00+00:00",
          "2025-03-13T12:15:00+00:00",
          "2025-03-13T12:00:00+00:00",
          "2025-03-13T11:45:00+00:00",
          "2025-03-13T11:30:00+00:00",
          "2025-03-13T11:15:00+00:00",
          "2025-03-13T11:00:00+00:00",
          "2025-03-13T10:45:00+00:00",
          "2025-03-13T10:30:00+00:00",
          "2025-03-13T10:15:00+00:00",
          "2025-03-13T10:00:00+00:00",
          "2025-03-13T09:45:00+00:00",
          "2025-03-13T09:30:00+00:00",
          "2025-03-13T09:15:00+00:00",
          "2025-03-13T09:00:00+00:00",
          "2025-03-13T08:45:00+00:00",
          "2025-03-13T08:30:00+00:00",
          "2025-03-13T08:15:00+00:00",
          "2025-03-13T08:00:00+00:00",
          "2025-03-13T07:45:00+00:00",
          "2025-03-13T07:30:00+00:00",
          "2025-03-13T07:15:00+00:00",
          "2025-03-13T07:00:00+00:00",
          "2025-03-13T06:45:00+00:00",
          "2025-03-13T06:30:00+00:00",
          "2025-03-13T06:15:00+00:00",
          "2025-03-13T06:00:00+00:00",
          "2025-03-13T05:45:00+00:00",
          "2025-03-13T05:30:00+00:00",
          "2025-03-13T05:15:00+00:00",
          "2025-03-13T05:00:00+00:00",
          "2025-03-13T04:45:00+00:00",
          "2025-03-13T04:30:00+00:00",
          "2025-03-13T04:15:00+00:00",
          "2025-03-13T04:00:00+00:00",
          "2025-03-13T03:45:00+00:00",
          "2025-03-13T03:30:00+00:00",
          "2025-03-13T03:15:00+00:00",
          "2025-03-13T03:00:00+00:00",
          "2025-03-13T02:45:00+00:00",
          "2025-03-13T02:30:00+00:00",
          "2025-03-13T02:15:00+00:00",
          "2025-03-13T02:00:00+00:00",
          "2025-03-13T01:45:00+00:00",
          "2025-03-13T01:30:00+00:00",
          "2025-03-13T01:15:00+00:00"
         ],
         "xaxis": "x",
         "y": [
          0.375,
          0.376,
          0.377,
          0.376,
          0.376,
          0.376,
          0.377,
          0.378,
          0.377,
          0.378,
          0.379,
          0.379,
          0.379,
          0.378,
          0.378,
          0.379,
          0.38,
          0.38,
          0.381,
          0.381,
          0.381,
          0.381,
          0.381,
          0.382,
          0.382,
          0.382,
          0.382,
          0.382,
          0.382,
          0.382,
          0.382,
          0.382,
          0.382,
          0.381,
          0.38,
          0.38,
          0.38,
          0.381,
          0.381,
          0.381,
          0.382,
          0.382,
          0.382,
          0.383,
          0.382,
          0.383,
          0.383,
          0.384,
          0.385,
          0.385,
          0.385,
          0.384,
          0.384,
          0.384,
          0.384,
          0.384,
          0.384,
          0.384,
          0.384,
          0.385,
          0.385,
          0.385,
          0.385,
          0.385,
          0.384,
          0.385,
          0.385,
          0.384,
          0.383,
          0.386,
          0.386,
          0.386,
          0.385,
          0.386,
          0.387,
          0.387,
          0.387,
          0.388,
          0.389,
          0.389,
          0.388,
          0.389,
          0.39,
          0.39,
          0.39,
          0.391,
          0.391,
          0.392,
          0.391,
          0.392,
          0.393,
          0.392,
          0.392,
          0.393,
          0.393
         ],
         "yaxis": "y"
        }
       ],
       "layout": {
        "annotations": [
         {
          "font": {
           "size": 16
          },
          "showarrow": false,
          "text": "stage",
          "x": 0.5,
          "xanchor": "center",
          "xref": "paper",
          "y": 1,
          "yanchor": "bottom",
          "yref": "paper"
         }
        ],
        "height": 300,
        "hovermode": "x unified",
        "template": {
         "data": {
          "bar": [
           {
            "error_x": {
             "color": "#f2f5fa"
            },
            "error_y": {
             "color": "#f2f5fa"
            },
            "marker": {
             "line": {
              "color": "rgb(17,17,17)",
              "width": 0.5
             },
             "pattern": {
              "fillmode": "overlay",
              "size": 10,
              "solidity": 0.2
             }
            },
            "type": "bar"
           }
          ],
          "barpolar": [
           {
            "marker": {
             "line": {
              "color": "rgb(17,17,17)",
              "width": 0.5
             },
             "pattern": {
              "fillmode": "overlay",
              "size": 10,
              "solidity": 0.2
             }
            },
            "type": "barpolar"
           }
          ],
          "carpet": [
           {
            "aaxis": {
             "endlinecolor": "#A2B1C6",
             "gridcolor": "#506784",
             "linecolor": "#506784",
             "minorgridcolor": "#506784",
             "startlinecolor": "#A2B1C6"
            },
            "baxis": {
             "endlinecolor": "#A2B1C6",
             "gridcolor": "#506784",
             "linecolor": "#506784",
             "minorgridcolor": "#506784",
             "startlinecolor": "#A2B1C6"
            },
            "type": "carpet"
           }
          ],
          "choropleth": [
           {
            "colorbar": {
             "outlinewidth": 0,
             "ticks": ""
            },
            "type": "choropleth"
           }
          ],
          "contour": [
           {
            "colorbar": {
             "outlinewidth": 0,
             "ticks": ""
            },
            "colorscale": [
             [
              0,
              "#0d0887"
             ],
             [
              0.1111111111111111,
              "#46039f"
             ],
             [
              0.2222222222222222,
              "#7201a8"
             ],
             [
              0.3333333333333333,
              "#9c179e"
             ],
             [
              0.4444444444444444,
              "#bd3786"
             ],
             [
              0.5555555555555556,
              "#d8576b"
             ],
             [
              0.6666666666666666,
              "#ed7953"
             ],
             [
              0.7777777777777778,
              "#fb9f3a"
             ],
             [
              0.8888888888888888,
              "#fdca26"
             ],
             [
              1,
              "#f0f921"
             ]
            ],
            "type": "contour"
           }
          ],
          "contourcarpet": [
           {
            "colorbar": {
             "outlinewidth": 0,
             "ticks": ""
            },
            "type": "contourcarpet"
           }
          ],
          "heatmap": [
           {
            "colorbar": {
             "outlinewidth": 0,
             "ticks": ""
            },
            "colorscale": [
             [
              0,
              "#0d0887"
             ],
             [
              0.1111111111111111,
              "#46039f"
             ],
             [
              0.2222222222222222,
              "#7201a8"
             ],
             [
              0.3333333333333333,
              "#9c179e"
             ],
             [
              0.4444444444444444,
              "#bd3786"
             ],
             [
              0.5555555555555556,
              "#d8576b"
             ],
             [
              0.6666666666666666,
              "#ed7953"
             ],
             [
              0.7777777777777778,
              "#fb9f3a"
             ],
             [
              0.8888888888888888,
              "#fdca26"
             ],
             [
              1,
              "#f0f921"
             ]
            ],
            "type": "heatmap"
           }
          ],
          "heatmapgl": [
           {
            "colorbar": {
             "outlinewidth": 0,
             "ticks": ""
            },
            "colorscale": [
             [
              0,
              "#0d0887"
             ],
             [
              0.1111111111111111,
              "#46039f"
             ],
             [
              0.2222222222222222,
              "#7201a8"
             ],
             [
              0.3333333333333333,
              "#9c179e"
             ],
             [
              0.4444444444444444,
              "#bd3786"
             ],
             [
              0.5555555555555556,
              "#d8576b"
             ],
             [
              0.6666666666666666,
              "#ed7953"
             ],
             [
              0.7777777777777778,
              "#fb9f3a"
             ],
             [
              0.8888888888888888,
              "#fdca26"
             ],
             [
              1,
              "#f0f921"
             ]
            ],
            "type": "heatmapgl"
           }
          ],
          "histogram": [
           {
            "marker": {
             "pattern": {
              "fillmode": "overlay",
              "size": 10,
              "solidity": 0.2
             }
            },
            "type": "histogram"
           }
          ],
          "histogram2d": [
           {
            "colorbar": {
             "outlinewidth": 0,
             "ticks": ""
            },
            "colorscale": [
             [
              0,
              "#0d0887"
             ],
             [
              0.1111111111111111,
              "#46039f"
             ],
             [
              0.2222222222222222,
              "#7201a8"
             ],
             [
              0.3333333333333333,
              "#9c179e"
             ],
             [
              0.4444444444444444,
              "#bd3786"
             ],
             [
              0.5555555555555556,
              "#d8576b"
             ],
             [
              0.6666666666666666,
              "#ed7953"
             ],
             [
              0.7777777777777778,
              "#fb9f3a"
             ],
             [
              0.8888888888888888,
              "#fdca26"
             ],
             [
              1,
              "#f0f921"
             ]
            ],
            "type": "histogram2d"
           }
          ],
          "histogram2dcontour": [
           {
            "colorbar": {
             "outlinewidth": 0,
             "ticks": ""
            },
            "colorscale": [
             [
              0,
              "#0d0887"
             ],
             [
              0.1111111111111111,
              "#46039f"
             ],
             [
              0.2222222222222222,
              "#7201a8"
             ],
             [
              0.3333333333333333,
              "#9c179e"
             ],
             [
              0.4444444444444444,
              "#bd3786"
             ],
             [
              0.5555555555555556,
              "#d8576b"
             ],
             [
              0.6666666666666666,
              "#ed7953"
             ],
             [
              0.7777777777777778,
              "#fb9f3a"
             ],
             [
              0.8888888888888888,
              "#fdca26"
             ],
             [
              1,
              "#f0f921"
             ]
            ],
            "type": "histogram2dcontour"
           }
          ],
          "mesh3d": [
           {
            "colorbar": {
             "outlinewidth": 0,
             "ticks": ""
            },
            "type": "mesh3d"
           }
          ],
          "parcoords": [
           {
            "line": {
             "colorbar": {
              "outlinewidth": 0,
              "ticks": ""
             }
            },
            "type": "parcoords"
           }
          ],
          "pie": [
           {
            "automargin": true,
            "type": "pie"
           }
          ],
          "scatter": [
           {
            "marker": {
             "line": {
              "color": "#283442"
             }
            },
            "type": "scatter"
           }
          ],
          "scatter3d": [
           {
            "line": {
             "colorbar": {
              "outlinewidth": 0,
              "ticks": ""
             }
            },
            "marker": {
             "colorbar": {
              "outlinewidth": 0,
              "ticks": ""
             }
            },
            "type": "scatter3d"
           }
          ],
          "scattercarpet": [
           {
            "marker": {
             "colorbar": {
              "outlinewidth": 0,
              "ticks": ""
             }
            },
            "type": "scattercarpet"
           }
          ],
          "scattergeo": [
           {
            "marker": {
             "colorbar": {
              "outlinewidth": 0,
              "ticks": ""
             }
            },
            "type": "scattergeo"
           }
          ],
          "scattergl": [
           {
            "marker": {
             "line": {
              "color": "#283442"
             }
            },
            "type": "scattergl"
           }
          ],
          "scattermapbox": [
           {
            "marker": {
             "colorbar": {
              "outlinewidth": 0,
              "ticks": ""
             }
            },
            "type": "scattermapbox"
           }
          ],
          "scatterpolar": [
           {
            "marker": {
             "colorbar": {
              "outlinewidth": 0,
              "ticks": ""
             }
            },
            "type": "scatterpolar"
           }
          ],
          "scatterpolargl": [
           {
            "marker": {
             "colorbar": {
              "outlinewidth": 0,
              "ticks": ""
             }
            },
            "type": "scatterpolargl"
           }
          ],
          "scatterternary": [
           {
            "marker": {
             "colorbar": {
              "outlinewidth": 0,
              "ticks": ""
             }
            },
            "type": "scatterternary"
           }
          ],
          "surface": [
           {
            "colorbar": {
             "outlinewidth": 0,
             "ticks": ""
            },
            "colorscale": [
             [
              0,
              "#0d0887"
             ],
             [
              0.1111111111111111,
              "#46039f"
             ],
             [
              0.2222222222222222,
              "#7201a8"
             ],
             [
              0.3333333333333333,
              "#9c179e"
             ],
             [
              0.4444444444444444,
              "#bd3786"
             ],
             [
              0.5555555555555556,
              "#d8576b"
             ],
             [
              0.6666666666666666,
              "#ed7953"
             ],
             [
              0.7777777777777778,
              "#fb9f3a"
             ],
             [
              0.8888888888888888,
              "#fdca26"
             ],
             [
              1,
              "#f0f921"
             ]
            ],
            "type": "surface"
           }
          ],
          "table": [
           {
            "cells": {
             "fill": {
              "color": "#506784"
             },
             "line": {
              "color": "rgb(17,17,17)"
             }
            },
            "header": {
             "fill": {
              "color": "#2a3f5f"
             },
             "line": {
              "color": "rgb(17,17,17)"
             }
            },
            "type": "table"
           }
          ]
         },
         "layout": {
          "annotationdefaults": {
           "arrowcolor": "#f2f5fa",
           "arrowhead": 0,
           "arrowwidth": 1
          },
          "autotypenumbers": "strict",
          "coloraxis": {
           "colorbar": {
            "outlinewidth": 0,
            "ticks": ""
           }
          },
          "colorscale": {
           "diverging": [
            [
             0,
             "#8e0152"
            ],
            [
             0.1,
             "#c51b7d"
            ],
            [
             0.2,
             "#de77ae"
            ],
            [
             0.3,
             "#f1b6da"
            ],
            [
             0.4,
             "#fde0ef"
            ],
            [
             0.5,
             "#f7f7f7"
            ],
            [
             0.6,
             "#e6f5d0"
            ],
            [
             0.7,
             "#b8e186"
            ],
            [
             0.8,
             "#7fbc41"
            ],
            [
             0.9,
             "#4d9221"
            ],
            [
             1,
             "#276419"
            ]
           ],
           "sequential": [
            [
             0,
             "#0d0887"
            ],
            [
             0.1111111111111111,
             "#46039f"
            ],
            [
             0.2222222222222222,
             "#7201a8"
            ],
            [
             0.3333333333333333,
             "#9c179e"
            ],
            [
             0.4444444444444444,
             "#bd3786"
            ],
            [
             0.5555555555555556,
             "#d8576b"
            ],
            [
             0.6666666666666666,
             "#ed7953"
            ],
            [
             0.7777777777777778,
             "#fb9f3a"
            ],
            [
             0.8888888888888888,
             "#fdca26"
            ],
            [
             1,
             "#f0f921"
            ]
           ],
           "sequentialminus": [
            [
             0,
             "#0d0887"
            ],
            [
             0.1111111111111111,
             "#46039f"
            ],
            [
             0.2222222222222222,
             "#7201a8"
            ],
            [
             0.3333333333333333,
             "#9c179e"
            ],
            [
             0.4444444444444444,
             "#bd3786"
            ],
            [
             0.5555555555555556,
             "#d8576b"
            ],
            [
             0.6666666666666666,
             "#ed7953"
            ],
            [
             0.7777777777777778,
             "#fb9f3a"
            ],
            [
             0.8888888888888888,
             "#fdca26"
            ],
            [
             1,
             "#f0f921"
            ]
           ]
          },
          "colorway": [
           "#636efa",
           "#EF553B",
           "#00cc96",
           "#ab63fa",
           "#FFA15A",
           "#19d3f3",
           "#FF6692",
           "#B6E880",
           "#FF97FF",
           "#FECB52"
          ],
          "font": {
           "color": "#f2f5fa"
          },
          "geo": {
           "bgcolor": "rgb(17,17,17)",
           "lakecolor": "rgb(17,17,17)",
           "landcolor": "rgb(17,17,17)",
           "showlakes": true,
           "showland": true,
           "subunitcolor": "#506784"
          },
          "hoverlabel": {
           "align": "left"
          },
          "hovermode": "closest",
          "mapbox": {
           "style": "dark"
          },
          "paper_bgcolor": "rgb(17,17,17)",
          "plot_bgcolor": "rgb(17,17,17)",
          "polar": {
           "angularaxis": {
            "gridcolor": "#506784",
            "linecolor": "#506784",
            "ticks": ""
           },
           "bgcolor": "rgb(17,17,17)",
           "radialaxis": {
            "gridcolor": "#506784",
            "linecolor": "#506784",
            "ticks": ""
           }
          },
          "scene": {
           "xaxis": {
            "backgroundcolor": "rgb(17,17,17)",
            "gridcolor": "#506784",
            "gridwidth": 2,
            "linecolor": "#506784",
            "showbackground": true,
            "ticks": "",
            "zerolinecolor": "#C8D4E3"
           },
           "yaxis": {
            "backgroundcolor": "rgb(17,17,17)",
            "gridcolor": "#506784",
            "gridwidth": 2,
            "linecolor": "#506784",
            "showbackground": true,
            "ticks": "",
            "zerolinecolor": "#C8D4E3"
           },
           "zaxis": {
            "backgroundcolor": "rgb(17,17,17)",
            "gridcolor": "#506784",
            "gridwidth": 2,
            "linecolor": "#506784",
            "showbackground": true,
            "ticks": "",
            "zerolinecolor": "#C8D4E3"
           }
          },
          "shapedefaults": {
           "line": {
            "color": "#f2f5fa"
           }
          },
          "sliderdefaults": {
           "bgcolor": "#C8D4E3",
           "bordercolor": "rgb(17,17,17)",
           "borderwidth": 1,
           "tickwidth": 0
          },
          "ternary": {
           "aaxis": {
            "gridcolor": "#506784",
            "linecolor": "#506784",
            "ticks": ""
           },
           "baxis": {
            "gridcolor": "#506784",
            "linecolor": "#506784",
            "ticks": ""
           },
           "bgcolor": "rgb(17,17,17)",
           "caxis": {
            "gridcolor": "#506784",
            "linecolor": "#506784",
            "ticks": ""
           }
          },
          "title": {
           "x": 0.05
          },
          "updatemenudefaults": {
           "bgcolor": "#506784",
           "borderwidth": 0
          },
          "xaxis": {
           "automargin": true,
           "gridcolor": "#283442",
           "linecolor": "#506784",
           "ticks": "",
           "title": {
            "standoff": 15
           },
           "zerolinecolor": "#283442",
           "zerolinewidth": 2
          },
          "yaxis": {
           "automargin": true,
           "gridcolor": "#283442",
           "linecolor": "#506784",
           "ticks": "",
           "title": {
            "standoff": 15
           },
           "zerolinecolor": "#283442",
           "zerolinewidth": 2
          }
         }
        },
        "title": {
         "text": "Flood Monitoring Station Readings"
        },
        "xaxis": {
         "anchor": "y",
         "domain": [
          0,
          1
         ],
         "tickangle": -45,
         "title": {
          "text": "DateTime"
         }
        },
        "yaxis": {
         "anchor": "x",
         "domain": [
          0,
          1
         ],
         "title": {
          "text": "Measurement Value"
         }
        }
       }
      }
     },
     "metadata": {},
     "output_type": "display_data"
    }
   ],
   "source": [
    "line_chart()"
   ]
  },
  {
   "cell_type": "code",
   "execution_count": null,
   "metadata": {},
   "outputs": [],
   "source": [
    "data[\"label\"] = data[\"label\"].astype(str)"
   ]
  },
  {
   "cell_type": "code",
   "execution_count": null,
   "metadata": {},
   "outputs": [],
   "source": [
    "df.columns"
   ]
  },
  {
   "cell_type": "code",
   "execution_count": null,
   "metadata": {},
   "outputs": [],
   "source": []
  },
  {
   "cell_type": "code",
   "execution_count": null,
   "metadata": {},
   "outputs": [],
   "source": []
  },
  {
   "cell_type": "code",
   "execution_count": null,
   "metadata": {},
   "outputs": [],
   "source": []
  },
  {
   "cell_type": "code",
   "execution_count": null,
   "metadata": {},
   "outputs": [],
   "source": []
  },
  {
   "cell_type": "code",
   "execution_count": null,
   "metadata": {},
   "outputs": [
    {
     "name": "stderr",
     "output_type": "stream",
     "text": [
      "/home/mukullight/anaconda3/envs/cm/lib/python3.6/site-packages/ipykernel_launcher.py:2: UserWarning: \n",
      "The dash_core_components package is deprecated. Please replace\n",
      "`import dash_core_components as dcc` with `from dash import dcc`\n",
      "  \n",
      "/home/mukullight/anaconda3/envs/cm/lib/python3.6/site-packages/ipykernel_launcher.py:3: UserWarning: \n",
      "The dash_html_components package is deprecated. Please replace\n",
      "`import dash_html_components as html` with `from dash import html`\n",
      "  This is separate from the ipykernel package so we can avoid doing imports until\n",
      "/home/mukullight/anaconda3/envs/cm/lib/python3.6/site-packages/ipykernel_launcher.py:6: UserWarning: \n",
      "The dash_table package is deprecated. Please replace\n",
      "`import dash_table` with `from dash import dash_table`\n",
      "\n",
      "Also, if you're using any of the table format helpers (e.g. Group), replace \n",
      "`from dash_table.Format import Group` with \n",
      "`from dash.dash_table.Format import Group`\n",
      "  \n"
     ]
    },
    {
     "ename": "OSError",
     "evalue": "[Errno 98] Address already in use",
     "output_type": "error",
     "traceback": [
      "\u001b[0;31m---------------------------------------------------------------------------\u001b[0m",
      "\u001b[0;31mOSError\u001b[0m                                   Traceback (most recent call last)",
      "\u001b[0;32m<ipython-input-1-eac7906a1225>\u001b[0m in \u001b[0;36m<module>\u001b[0;34m\u001b[0m\n\u001b[1;32m    200\u001b[0m \u001b[0;34m\u001b[0m\u001b[0m\n\u001b[1;32m    201\u001b[0m \u001b[0;32mif\u001b[0m \u001b[0m__name__\u001b[0m \u001b[0;34m==\u001b[0m \u001b[0;34m'__main__'\u001b[0m\u001b[0;34m:\u001b[0m\u001b[0;34m\u001b[0m\u001b[0;34m\u001b[0m\u001b[0m\n\u001b[0;32m--> 202\u001b[0;31m     \u001b[0mapp\u001b[0m\u001b[0;34m.\u001b[0m\u001b[0mrun_server\u001b[0m\u001b[0;34m(\u001b[0m\u001b[0mdebug\u001b[0m\u001b[0;34m=\u001b[0m\u001b[0;32mTrue\u001b[0m\u001b[0;34m)\u001b[0m\u001b[0;34m\u001b[0m\u001b[0;34m\u001b[0m\u001b[0m\n\u001b[0m",
      "\u001b[0;32m~/anaconda3/envs/cm/lib/python3.6/site-packages/dash/dash.py\u001b[0m in \u001b[0;36mrun_server\u001b[0;34m(self, *args, **kwargs)\u001b[0m\n\u001b[1;32m   2173\u001b[0m         \u001b[0mSee\u001b[0m\u001b[0;31m \u001b[0m\u001b[0;31m`\u001b[0m\u001b[0mapp\u001b[0m\u001b[0;34m.\u001b[0m\u001b[0mrun\u001b[0m\u001b[0;31m`\u001b[0m \u001b[0;32mfor\u001b[0m \u001b[0musage\u001b[0m \u001b[0minformation\u001b[0m\u001b[0;34m.\u001b[0m\u001b[0;34m\u001b[0m\u001b[0;34m\u001b[0m\u001b[0m\n\u001b[1;32m   2174\u001b[0m         \"\"\"\n\u001b[0;32m-> 2175\u001b[0;31m         \u001b[0mself\u001b[0m\u001b[0;34m.\u001b[0m\u001b[0mrun\u001b[0m\u001b[0;34m(\u001b[0m\u001b[0;34m*\u001b[0m\u001b[0margs\u001b[0m\u001b[0;34m,\u001b[0m \u001b[0;34m**\u001b[0m\u001b[0mkwargs\u001b[0m\u001b[0;34m)\u001b[0m\u001b[0;34m\u001b[0m\u001b[0;34m\u001b[0m\u001b[0m\n\u001b[0m",
      "\u001b[0;32m~/anaconda3/envs/cm/lib/python3.6/site-packages/dash/dash.py\u001b[0m in \u001b[0;36mrun\u001b[0;34m(self, host, port, proxy, debug, jupyter_mode, jupyter_width, jupyter_height, jupyter_server_url, dev_tools_ui, dev_tools_props_check, dev_tools_serve_dev_bundles, dev_tools_hot_reload, dev_tools_hot_reload_interval, dev_tools_hot_reload_watch_interval, dev_tools_hot_reload_max_retry, dev_tools_silence_routes_logging, dev_tools_prune_errors, **flask_run_options)\u001b[0m\n\u001b[1;32m   2071\u001b[0m                 \u001b[0mhost\u001b[0m\u001b[0;34m=\u001b[0m\u001b[0mhost\u001b[0m\u001b[0;34m,\u001b[0m\u001b[0;34m\u001b[0m\u001b[0;34m\u001b[0m\u001b[0m\n\u001b[1;32m   2072\u001b[0m                 \u001b[0mport\u001b[0m\u001b[0;34m=\u001b[0m\u001b[0mport\u001b[0m\u001b[0;34m,\u001b[0m\u001b[0;34m\u001b[0m\u001b[0;34m\u001b[0m\u001b[0m\n\u001b[0;32m-> 2073\u001b[0;31m                 \u001b[0mserver_url\u001b[0m\u001b[0;34m=\u001b[0m\u001b[0mjupyter_server_url\u001b[0m\u001b[0;34m,\u001b[0m\u001b[0;34m\u001b[0m\u001b[0;34m\u001b[0m\u001b[0m\n\u001b[0m\u001b[1;32m   2074\u001b[0m             )\n\u001b[1;32m   2075\u001b[0m         \u001b[0;32melse\u001b[0m\u001b[0;34m:\u001b[0m\u001b[0;34m\u001b[0m\u001b[0;34m\u001b[0m\u001b[0m\n",
      "\u001b[0;32m~/anaconda3/envs/cm/lib/python3.6/site-packages/dash/_jupyter.py\u001b[0m in \u001b[0;36mrun_app\u001b[0;34m(self, app, mode, width, height, host, port, server_url)\u001b[0m\n\u001b[1;32m    325\u001b[0m         \u001b[0merr_q\u001b[0m \u001b[0;34m=\u001b[0m \u001b[0mqueue\u001b[0m\u001b[0;34m.\u001b[0m\u001b[0mQueue\u001b[0m\u001b[0;34m(\u001b[0m\u001b[0;34m)\u001b[0m\u001b[0;34m\u001b[0m\u001b[0;34m\u001b[0m\u001b[0m\n\u001b[1;32m    326\u001b[0m \u001b[0;34m\u001b[0m\u001b[0m\n\u001b[0;32m--> 327\u001b[0;31m         \u001b[0mserver\u001b[0m \u001b[0;34m=\u001b[0m \u001b[0mmake_server\u001b[0m\u001b[0;34m(\u001b[0m\u001b[0mhost\u001b[0m\u001b[0;34m,\u001b[0m \u001b[0mport\u001b[0m\u001b[0;34m,\u001b[0m \u001b[0mapp\u001b[0m\u001b[0;34m.\u001b[0m\u001b[0mserver\u001b[0m\u001b[0;34m,\u001b[0m \u001b[0mthreaded\u001b[0m\u001b[0;34m=\u001b[0m\u001b[0;32mTrue\u001b[0m\u001b[0;34m,\u001b[0m \u001b[0mprocesses\u001b[0m\u001b[0;34m=\u001b[0m\u001b[0;36m0\u001b[0m\u001b[0;34m)\u001b[0m\u001b[0;34m\u001b[0m\u001b[0;34m\u001b[0m\u001b[0m\n\u001b[0m\u001b[1;32m    328\u001b[0m         \u001b[0mlogging\u001b[0m\u001b[0;34m.\u001b[0m\u001b[0mgetLogger\u001b[0m\u001b[0;34m(\u001b[0m\u001b[0;34m\"werkzeug\"\u001b[0m\u001b[0;34m)\u001b[0m\u001b[0;34m.\u001b[0m\u001b[0msetLevel\u001b[0m\u001b[0;34m(\u001b[0m\u001b[0mlogging\u001b[0m\u001b[0;34m.\u001b[0m\u001b[0mERROR\u001b[0m\u001b[0;34m)\u001b[0m\u001b[0;34m\u001b[0m\u001b[0;34m\u001b[0m\u001b[0m\n\u001b[1;32m    329\u001b[0m \u001b[0;34m\u001b[0m\u001b[0m\n",
      "\u001b[0;32m~/anaconda3/envs/cm/lib/python3.6/site-packages/werkzeug/serving.py\u001b[0m in \u001b[0;36mmake_server\u001b[0;34m(host, port, app, threaded, processes, request_handler, passthrough_errors, ssl_context, fd)\u001b[0m\n\u001b[1;32m    788\u001b[0m     \u001b[0;32melif\u001b[0m \u001b[0mthreaded\u001b[0m\u001b[0;34m:\u001b[0m\u001b[0;34m\u001b[0m\u001b[0;34m\u001b[0m\u001b[0m\n\u001b[1;32m    789\u001b[0m         return ThreadedWSGIServer(\n\u001b[0;32m--> 790\u001b[0;31m             \u001b[0mhost\u001b[0m\u001b[0;34m,\u001b[0m \u001b[0mport\u001b[0m\u001b[0;34m,\u001b[0m \u001b[0mapp\u001b[0m\u001b[0;34m,\u001b[0m \u001b[0mrequest_handler\u001b[0m\u001b[0;34m,\u001b[0m \u001b[0mpassthrough_errors\u001b[0m\u001b[0;34m,\u001b[0m \u001b[0mssl_context\u001b[0m\u001b[0;34m,\u001b[0m \u001b[0mfd\u001b[0m\u001b[0;34m=\u001b[0m\u001b[0mfd\u001b[0m\u001b[0;34m\u001b[0m\u001b[0;34m\u001b[0m\u001b[0m\n\u001b[0m\u001b[1;32m    791\u001b[0m         )\n\u001b[1;32m    792\u001b[0m     \u001b[0;32melif\u001b[0m \u001b[0mprocesses\u001b[0m \u001b[0;34m>\u001b[0m \u001b[0;36m1\u001b[0m\u001b[0;34m:\u001b[0m\u001b[0;34m\u001b[0m\u001b[0;34m\u001b[0m\u001b[0m\n",
      "\u001b[0;32m~/anaconda3/envs/cm/lib/python3.6/site-packages/werkzeug/serving.py\u001b[0m in \u001b[0;36m__init__\u001b[0;34m(self, host, port, app, handler, passthrough_errors, ssl_context, fd)\u001b[0m\n\u001b[1;32m    691\u001b[0m                 \u001b[0mos\u001b[0m\u001b[0;34m.\u001b[0m\u001b[0munlink\u001b[0m\u001b[0;34m(\u001b[0m\u001b[0mserver_address\u001b[0m\u001b[0;34m)\u001b[0m\u001b[0;34m\u001b[0m\u001b[0;34m\u001b[0m\u001b[0m\n\u001b[1;32m    692\u001b[0m \u001b[0;34m\u001b[0m\u001b[0m\n\u001b[0;32m--> 693\u001b[0;31m         \u001b[0msuper\u001b[0m\u001b[0;34m(\u001b[0m\u001b[0;34m)\u001b[0m\u001b[0;34m.\u001b[0m\u001b[0m__init__\u001b[0m\u001b[0;34m(\u001b[0m\u001b[0mserver_address\u001b[0m\u001b[0;34m,\u001b[0m \u001b[0mhandler\u001b[0m\u001b[0;34m)\u001b[0m  \u001b[0;31m# type: ignore\u001b[0m\u001b[0;34m\u001b[0m\u001b[0;34m\u001b[0m\u001b[0m\n\u001b[0m\u001b[1;32m    694\u001b[0m \u001b[0;34m\u001b[0m\u001b[0m\n\u001b[1;32m    695\u001b[0m         \u001b[0mself\u001b[0m\u001b[0;34m.\u001b[0m\u001b[0mapp\u001b[0m \u001b[0;34m=\u001b[0m \u001b[0mapp\u001b[0m\u001b[0;34m\u001b[0m\u001b[0;34m\u001b[0m\u001b[0m\n",
      "\u001b[0;32m~/anaconda3/envs/cm/lib/python3.6/socketserver.py\u001b[0m in \u001b[0;36m__init__\u001b[0;34m(self, server_address, RequestHandlerClass, bind_and_activate)\u001b[0m\n\u001b[1;32m    454\u001b[0m         \u001b[0;32mif\u001b[0m \u001b[0mbind_and_activate\u001b[0m\u001b[0;34m:\u001b[0m\u001b[0;34m\u001b[0m\u001b[0;34m\u001b[0m\u001b[0m\n\u001b[1;32m    455\u001b[0m             \u001b[0;32mtry\u001b[0m\u001b[0;34m:\u001b[0m\u001b[0;34m\u001b[0m\u001b[0;34m\u001b[0m\u001b[0m\n\u001b[0;32m--> 456\u001b[0;31m                 \u001b[0mself\u001b[0m\u001b[0;34m.\u001b[0m\u001b[0mserver_bind\u001b[0m\u001b[0;34m(\u001b[0m\u001b[0;34m)\u001b[0m\u001b[0;34m\u001b[0m\u001b[0;34m\u001b[0m\u001b[0m\n\u001b[0m\u001b[1;32m    457\u001b[0m                 \u001b[0mself\u001b[0m\u001b[0;34m.\u001b[0m\u001b[0mserver_activate\u001b[0m\u001b[0;34m(\u001b[0m\u001b[0;34m)\u001b[0m\u001b[0;34m\u001b[0m\u001b[0;34m\u001b[0m\u001b[0m\n\u001b[1;32m    458\u001b[0m             \u001b[0;32mexcept\u001b[0m\u001b[0;34m:\u001b[0m\u001b[0;34m\u001b[0m\u001b[0;34m\u001b[0m\u001b[0m\n",
      "\u001b[0;32m~/anaconda3/envs/cm/lib/python3.6/http/server.py\u001b[0m in \u001b[0;36mserver_bind\u001b[0;34m(self)\u001b[0m\n\u001b[1;32m    134\u001b[0m     \u001b[0;32mdef\u001b[0m \u001b[0mserver_bind\u001b[0m\u001b[0;34m(\u001b[0m\u001b[0mself\u001b[0m\u001b[0;34m)\u001b[0m\u001b[0;34m:\u001b[0m\u001b[0;34m\u001b[0m\u001b[0;34m\u001b[0m\u001b[0m\n\u001b[1;32m    135\u001b[0m         \u001b[0;34m\"\"\"Override server_bind to store the server name.\"\"\"\u001b[0m\u001b[0;34m\u001b[0m\u001b[0;34m\u001b[0m\u001b[0m\n\u001b[0;32m--> 136\u001b[0;31m         \u001b[0msocketserver\u001b[0m\u001b[0;34m.\u001b[0m\u001b[0mTCPServer\u001b[0m\u001b[0;34m.\u001b[0m\u001b[0mserver_bind\u001b[0m\u001b[0;34m(\u001b[0m\u001b[0mself\u001b[0m\u001b[0;34m)\u001b[0m\u001b[0;34m\u001b[0m\u001b[0;34m\u001b[0m\u001b[0m\n\u001b[0m\u001b[1;32m    137\u001b[0m         \u001b[0mhost\u001b[0m\u001b[0;34m,\u001b[0m \u001b[0mport\u001b[0m \u001b[0;34m=\u001b[0m \u001b[0mself\u001b[0m\u001b[0;34m.\u001b[0m\u001b[0mserver_address\u001b[0m\u001b[0;34m[\u001b[0m\u001b[0;34m:\u001b[0m\u001b[0;36m2\u001b[0m\u001b[0;34m]\u001b[0m\u001b[0;34m\u001b[0m\u001b[0;34m\u001b[0m\u001b[0m\n\u001b[1;32m    138\u001b[0m         \u001b[0mself\u001b[0m\u001b[0;34m.\u001b[0m\u001b[0mserver_name\u001b[0m \u001b[0;34m=\u001b[0m \u001b[0msocket\u001b[0m\u001b[0;34m.\u001b[0m\u001b[0mgetfqdn\u001b[0m\u001b[0;34m(\u001b[0m\u001b[0mhost\u001b[0m\u001b[0;34m)\u001b[0m\u001b[0;34m\u001b[0m\u001b[0;34m\u001b[0m\u001b[0m\n",
      "\u001b[0;32m~/anaconda3/envs/cm/lib/python3.6/socketserver.py\u001b[0m in \u001b[0;36mserver_bind\u001b[0;34m(self)\u001b[0m\n\u001b[1;32m    468\u001b[0m         \u001b[0;32mif\u001b[0m \u001b[0mself\u001b[0m\u001b[0;34m.\u001b[0m\u001b[0mallow_reuse_address\u001b[0m\u001b[0;34m:\u001b[0m\u001b[0;34m\u001b[0m\u001b[0;34m\u001b[0m\u001b[0m\n\u001b[1;32m    469\u001b[0m             \u001b[0mself\u001b[0m\u001b[0;34m.\u001b[0m\u001b[0msocket\u001b[0m\u001b[0;34m.\u001b[0m\u001b[0msetsockopt\u001b[0m\u001b[0;34m(\u001b[0m\u001b[0msocket\u001b[0m\u001b[0;34m.\u001b[0m\u001b[0mSOL_SOCKET\u001b[0m\u001b[0;34m,\u001b[0m \u001b[0msocket\u001b[0m\u001b[0;34m.\u001b[0m\u001b[0mSO_REUSEADDR\u001b[0m\u001b[0;34m,\u001b[0m \u001b[0;36m1\u001b[0m\u001b[0;34m)\u001b[0m\u001b[0;34m\u001b[0m\u001b[0;34m\u001b[0m\u001b[0m\n\u001b[0;32m--> 470\u001b[0;31m         \u001b[0mself\u001b[0m\u001b[0;34m.\u001b[0m\u001b[0msocket\u001b[0m\u001b[0;34m.\u001b[0m\u001b[0mbind\u001b[0m\u001b[0;34m(\u001b[0m\u001b[0mself\u001b[0m\u001b[0;34m.\u001b[0m\u001b[0mserver_address\u001b[0m\u001b[0;34m)\u001b[0m\u001b[0;34m\u001b[0m\u001b[0;34m\u001b[0m\u001b[0m\n\u001b[0m\u001b[1;32m    471\u001b[0m         \u001b[0mself\u001b[0m\u001b[0;34m.\u001b[0m\u001b[0mserver_address\u001b[0m \u001b[0;34m=\u001b[0m \u001b[0mself\u001b[0m\u001b[0;34m.\u001b[0m\u001b[0msocket\u001b[0m\u001b[0;34m.\u001b[0m\u001b[0mgetsockname\u001b[0m\u001b[0;34m(\u001b[0m\u001b[0;34m)\u001b[0m\u001b[0;34m\u001b[0m\u001b[0;34m\u001b[0m\u001b[0m\n\u001b[1;32m    472\u001b[0m \u001b[0;34m\u001b[0m\u001b[0m\n",
      "\u001b[0;31mOSError\u001b[0m: [Errno 98] Address already in use"
     ]
    }
   ],
   "source": [
    "import dash\n",
    "import dash_core_components as dcc\n",
    "import dash_html_components as html\n",
    "from dash.dependencies import Input, Output\n",
    "import pandas as pd\n",
    "from dash_table import DataTable\n",
    "import colorsys\n",
    "import geopandas as gpd\n",
    "import plotly.graph_objects as go\n",
    "from sklearn.cluster import DBSCAN\n",
    "import pandas as pd\n",
    "import datetime\n",
    "import requests\n",
    "import plotly.express as px\n",
    "\n",
    "data = pd.read_csv(\"geocoded_data.csv\")\n",
    "\n",
    "app = dash.Dash(__name__)\n",
    "\n",
    "def build_upper_left_panel():\n",
    "    return html.Div(\n",
    "        id=\"upper-left\",\n",
    "        className=\"six columns\",\n",
    "        children=[\n",
    "            html.H3(\n",
    "                className=\"section-title\",\n",
    "                children=\"Please select the station\",\n",
    "                style={\"color\": \"#2E8B57\"}\n",
    "            ),\n",
    "            html.Div(\n",
    "                className=\"control-row-1\",\n",
    "                children=[\n",
    "                    html.Div(\n",
    "                        id=\"county-select-outer\",\n",
    "                        children=[\n",
    "                            html.Label(\n",
    "                                \"choose from the dropdown below\",\n",
    "                                style={\"color\": \"green\", \"font-weight\": \"bold\"}\n",
    "                            ),\n",
    "                           dcc.Dropdown(\n",
    "                               id=\"station-select\",\n",
    "                               options=[\n",
    "                                   {\"label\": str(station), \"value\": str(station)}\n",
    "                                   for station in data[\"station_id\"].unique() if pd.notna(station)\n",
    "                               ],\n",
    "                               value=str(data[\"station_id\"].unique()[0]),\n",
    "                               style={\n",
    "                                   \"backgroundColor\": \"green\",\n",
    "                                   \"color\": \"black\",\n",
    "                                   \"border\": \"2px solid #FFD700\",\n",
    "                                   \"borderRadius\": \"5px\",\n",
    "                                   \"fontFamily\": \"Arial\",\n",
    "                                   \"fontSize\": \"16px\",\n",
    "                               },\n",
    "                           )\n",
    "                        ],\n",
    "                    ),\n",
    "                ],\n",
    "            ),\n",
    "        ],\n",
    "    )\n",
    "\n",
    "def generate_colors(n):\n",
    "    colors = []\n",
    "    for i in range(n):\n",
    "        hue = i / n\n",
    "        rgb = colorsys.hsv_to_rgb(hue, 0.7, 0.9)\n",
    "        hex_color = '#{:02x}{:02x}{:02x}'.format(int(rgb[0]*255), int(rgb[1]*255), int(rgb[2]*255))\n",
    "        colors.append(hex_color)\n",
    "    return colors\n",
    "\n",
    "def generate_geo_map(plot_data):\n",
    "    geojson_file = 'uk.geojson'\n",
    "    gdf = gpd.read_file(geojson_file)\n",
    "    center_lat = gdf.geometry.centroid.y.mean()\n",
    "    center_lon = gdf.geometry.centroid.x.mean()\n",
    "    \n",
    "    scatter_data = go.Scattermapbox(\n",
    "        lat=plot_data['lat'],\n",
    "        lon=plot_data['long'],\n",
    "        mode='markers',\n",
    "        marker=dict(\n",
    "            size=8,\n",
    "            color=plot_data['point_color'],\n",
    "            opacity=plot_data['opacity'],\n",
    "            showscale=False,\n",
    "        ),\n",
    "        text=plot_data.apply(\n",
    "            lambda row: f\"Town: {row['town']}<br>\"\n",
    "                        f\"Label: {row['label']}<br>\"\n",
    "                        f\"Station ID: {row['station_id']}<br>\"\n",
    "                        f\"Notation: {row['notation']}<br>\"\n",
    "                        f\"Lat: {row['lat']:.4f}<br>\"\n",
    "                        f\"Long: {row['long']:.4f}\",\n",
    "            axis=1\n",
    "        ),\n",
    "        hoverinfo='text',\n",
    "        customdata=plot_data['station_id']\n",
    "    )\n",
    "    \n",
    "    layout = go.Layout(\n",
    "        margin=dict(l=10, r=10, t=20, b=10, pad=5),\n",
    "        plot_bgcolor=\"black\",\n",
    "        paper_bgcolor=\"black\",\n",
    "        clickmode=\"event+select\",\n",
    "        hovermode=\"closest\",\n",
    "        showlegend=False,\n",
    "        mapbox=go.layout.Mapbox(\n",
    "            center=go.layout.mapbox.Center(\n",
    "                lat=center_lat,\n",
    "                lon=center_lon\n",
    "            ),\n",
    "            zoom=6,\n",
    "            style=\"carto-darkmatter\"\n",
    "        )\n",
    "    )\n",
    "    \n",
    "    return {\"data\": [scatter_data], \"layout\": layout}\n",
    "\n",
    "app.layout = html.Div([\n",
    "    build_upper_left_panel(),\n",
    "    html.Div(id=\"station-stats-table\"),\n",
    "    dcc.Graph(id='geo-map'),\n",
    "    \n",
    "])\n",
    "\n",
    "@app.callback(\n",
    "    [Output(\"geo-map\", \"figure\"),\n",
    "     Output(\"station-select\", \"value\"),  # Update the dropdown value when a point is clicked\n",
    "     Output(\"station-stats-table\", \"children\")],\n",
    "    [Input(\"geo-map\", \"clickData\"),\n",
    "     Input(\"station-select\", \"value\")]\n",
    ")\n",
    "def update_geo_map_and_ui(click_data, dropdown_value):\n",
    "    # Determine which input triggered the callback\n",
    "    ctx = dash.callback_context\n",
    "    triggered_input = ctx.triggered[0][\"prop_id\"].split('.')[0] if ctx.triggered else None\n",
    "\n",
    "    # Prioritize map click only if it was the triggering event\n",
    "    if triggered_input == \"geo-map\" and click_data is not None:\n",
    "        selected_station = click_data['points'][0]['customdata']\n",
    "    else:\n",
    "        selected_station = dropdown_value\n",
    "\n",
    "    data_modified = data.copy()\n",
    "\n",
    "    def convert_coord(val, index):\n",
    "        if isinstance(val, str) and ',' in val:\n",
    "            parts = val.strip(\"[]\").split(\",\")\n",
    "            return float(parts[index].strip())\n",
    "        else:\n",
    "            return float(val)\n",
    "\n",
    "    data_modified['lat'] = data_modified['lat'].apply(lambda x: convert_coord(x, 0))\n",
    "    data_modified['long'] = data_modified['long'].apply(lambda x: convert_coord(x, 1))\n",
    "\n",
    "    # Clustering\n",
    "    X = data_modified[['lat', 'long']].to_numpy()\n",
    "    clustering = DBSCAN(eps=0.01, min_samples=1).fit(X)\n",
    "    data_modified['cluster'] = clustering.labels_\n",
    "    unique_clusters = data_modified['cluster'].unique()\n",
    "    cluster_colors = generate_colors(len(unique_clusters))\n",
    "    color_mapping = dict(zip(unique_clusters, cluster_colors))\n",
    "    data_modified['point_color'] = data_modified['cluster'].map(color_mapping)\n",
    "    data_modified['opacity'] = 1.0\n",
    "\n",
    "    # Update the map points' opacity and color based on the selected station\n",
    "    data_modified.loc[data_modified['station_id'] != selected_station, 'opacity'] = 0.2\n",
    "    data_modified.loc[data_modified['station_id'] == selected_station, \"point_color\"] = 'white'\n",
    "\n",
    "    # Update the table with the selected station's details\n",
    "    station_df = data[data[\"station_id\"] == selected_station]\n",
    "    selected_columns = [\"notation\", \"riverName\", \"town\", \"label\", \"station_id\"]\n",
    "    filtered_df = station_df[selected_columns]\n",
    "\n",
    "    table_data = filtered_df.to_dict(\"records\")\n",
    "    table_columns = [{\"name\": col, \"id\": col} for col in selected_columns]\n",
    "\n",
    "    table_component = html.Div(\n",
    "        DataTable(\n",
    "            id=\"station-stats-table-table\",\n",
    "            columns=table_columns,\n",
    "            data=table_data,\n",
    "            filter_action=\"native\",\n",
    "            page_size=5,\n",
    "            style_cell={\n",
    "                \"background-color\": \"#2e4a3a\",  # Dark green background\n",
    "                \"color\": \"#c1d8c5\",  # Light greenish text color\n",
    "            },\n",
    "            style_header={\n",
    "                \"background-color\": \"#1b3521\",  # Darker green header background\n",
    "                \"color\": \"#ffffff\",  # White text for the header\n",
    "                \"padding\": \"0px 5px\",\n",
    "            },\n",
    "        )\n",
    "    )\n",
    "\n",
    "    # Return the updated map, the selected station for the dropdown, and the table component\n",
    "    return generate_geo_map(data_modified), selected_station, table_component\n",
    "\n",
    "if __name__ == '__main__':\n",
    "    app.run_server(debug=True)\n"
   ]
  },
  {
   "cell_type": "code",
   "execution_count": null,
   "metadata": {},
   "outputs": [],
   "source": []
  },
  {
   "cell_type": "code",
   "execution_count": null,
   "metadata": {},
   "outputs": [],
   "source": []
  },
  {
   "cell_type": "code",
   "execution_count": null,
   "metadata": {},
   "outputs": [],
   "source": []
  },
  {
   "cell_type": "code",
   "execution_count": null,
   "metadata": {},
   "outputs": [],
   "source": []
  },
  {
   "cell_type": "code",
   "execution_count": null,
   "metadata": {},
   "outputs": [],
   "source": []
  }
 ],
 "metadata": {
  "kernelspec": {
   "display_name": "cm",
   "language": "python",
   "name": "python3"
  },
  "language_info": {
   "codemirror_mode": {
    "name": "ipython",
    "version": 3
   },
   "file_extension": ".py",
   "mimetype": "text/x-python",
   "name": "python",
   "nbconvert_exporter": "python",
   "pygments_lexer": "ipython3",
   "version": "3.6.15"
  }
 },
 "nbformat": 4,
 "nbformat_minor": 2
}
